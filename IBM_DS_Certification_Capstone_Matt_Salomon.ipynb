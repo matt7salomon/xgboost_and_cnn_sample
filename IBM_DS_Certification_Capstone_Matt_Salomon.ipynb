{
 "cells": [
  {
   "cell_type": "markdown",
   "metadata": {},
   "source": [
    "# Aireline Passenger Satisfaction"
   ]
  },
  {
   "cell_type": "code",
   "execution_count": 1,
   "metadata": {},
   "outputs": [],
   "source": [
    "import numpy as np\n",
    "import pandas as pd\n",
    "from sklearn.metrics import accuracy_score, roc_auc_score, classification_report, plot_confusion_matrix, plot_roc_curve, precision_score,f1_score"
   ]
  },
  {
   "cell_type": "code",
   "execution_count": 2,
   "metadata": {},
   "outputs": [],
   "source": [
    "train = pd.read_csv('Airline_Satisfaction/training.csv')\n",
    "test = pd.read_csv('Airline_Satisfaction/test.csv')"
   ]
  },
  {
   "cell_type": "code",
   "execution_count": 3,
   "metadata": {},
   "outputs": [
    {
     "data": {
      "text/html": [
       "<div>\n",
       "<style scoped>\n",
       "    .dataframe tbody tr th:only-of-type {\n",
       "        vertical-align: middle;\n",
       "    }\n",
       "\n",
       "    .dataframe tbody tr th {\n",
       "        vertical-align: top;\n",
       "    }\n",
       "\n",
       "    .dataframe thead th {\n",
       "        text-align: right;\n",
       "    }\n",
       "</style>\n",
       "<table border=\"1\" class=\"dataframe\">\n",
       "  <thead>\n",
       "    <tr style=\"text-align: right;\">\n",
       "      <th></th>\n",
       "      <th>id</th>\n",
       "      <th>Gender</th>\n",
       "      <th>Customer Type</th>\n",
       "      <th>Age</th>\n",
       "      <th>Type of Travel</th>\n",
       "      <th>Class</th>\n",
       "      <th>Flight Distance</th>\n",
       "      <th>Inflight wifi service</th>\n",
       "      <th>Departure/Arrival time convenient</th>\n",
       "      <th>Ease of Online booking</th>\n",
       "      <th>...</th>\n",
       "      <th>On-board service</th>\n",
       "      <th>Leg room</th>\n",
       "      <th>Baggage handling</th>\n",
       "      <th>Checkin service</th>\n",
       "      <th>In-flight service</th>\n",
       "      <th>Cleanliness</th>\n",
       "      <th>Departure Delay</th>\n",
       "      <th>Arrival Delay in Minutes</th>\n",
       "      <th>satisfaction</th>\n",
       "      <th>participant_id</th>\n",
       "    </tr>\n",
       "  </thead>\n",
       "  <tbody>\n",
       "    <tr>\n",
       "      <td>0</td>\n",
       "      <td>70172</td>\n",
       "      <td>Male</td>\n",
       "      <td>Loyal Customer</td>\n",
       "      <td>13</td>\n",
       "      <td>Personal Travel</td>\n",
       "      <td>Eco Plus</td>\n",
       "      <td>460</td>\n",
       "      <td>3.0</td>\n",
       "      <td>4</td>\n",
       "      <td>3</td>\n",
       "      <td>...</td>\n",
       "      <td>4</td>\n",
       "      <td>3.0</td>\n",
       "      <td>4</td>\n",
       "      <td>4</td>\n",
       "      <td>5</td>\n",
       "      <td>5</td>\n",
       "      <td>25</td>\n",
       "      <td>18.0</td>\n",
       "      <td>neutral or dissatisfied</td>\n",
       "      <td>84012</td>\n",
       "    </tr>\n",
       "    <tr>\n",
       "      <td>1</td>\n",
       "      <td>5047</td>\n",
       "      <td>Male</td>\n",
       "      <td>disloyal Customer</td>\n",
       "      <td>25</td>\n",
       "      <td>Business travel</td>\n",
       "      <td>Business</td>\n",
       "      <td>235</td>\n",
       "      <td>3.0</td>\n",
       "      <td>2</td>\n",
       "      <td>3</td>\n",
       "      <td>...</td>\n",
       "      <td>1</td>\n",
       "      <td>5.0</td>\n",
       "      <td>3</td>\n",
       "      <td>1</td>\n",
       "      <td>4</td>\n",
       "      <td>1</td>\n",
       "      <td>1</td>\n",
       "      <td>6.0</td>\n",
       "      <td>neutral or dissatisfied</td>\n",
       "      <td>52620</td>\n",
       "    </tr>\n",
       "    <tr>\n",
       "      <td>2</td>\n",
       "      <td>110028</td>\n",
       "      <td>Female</td>\n",
       "      <td>Loyal Customer</td>\n",
       "      <td>26</td>\n",
       "      <td>Business travel</td>\n",
       "      <td>Business</td>\n",
       "      <td>1142</td>\n",
       "      <td>NaN</td>\n",
       "      <td>2</td>\n",
       "      <td>2</td>\n",
       "      <td>...</td>\n",
       "      <td>4</td>\n",
       "      <td>3.0</td>\n",
       "      <td>4</td>\n",
       "      <td>4</td>\n",
       "      <td>4</td>\n",
       "      <td>5</td>\n",
       "      <td>0</td>\n",
       "      <td>0.0</td>\n",
       "      <td>satisfied</td>\n",
       "      <td>93655</td>\n",
       "    </tr>\n",
       "    <tr>\n",
       "      <td>3</td>\n",
       "      <td>24026</td>\n",
       "      <td>Female</td>\n",
       "      <td>Loyal Customer</td>\n",
       "      <td>25</td>\n",
       "      <td>Business travel</td>\n",
       "      <td>NaN</td>\n",
       "      <td>562</td>\n",
       "      <td>2.0</td>\n",
       "      <td>5</td>\n",
       "      <td>5</td>\n",
       "      <td>...</td>\n",
       "      <td>2</td>\n",
       "      <td>5.0</td>\n",
       "      <td>3</td>\n",
       "      <td>1</td>\n",
       "      <td>4</td>\n",
       "      <td>2</td>\n",
       "      <td>11</td>\n",
       "      <td>9.0</td>\n",
       "      <td>neutral or dissatisfied</td>\n",
       "      <td>48312</td>\n",
       "    </tr>\n",
       "    <tr>\n",
       "      <td>4</td>\n",
       "      <td>119299</td>\n",
       "      <td>Male</td>\n",
       "      <td>Loyal Customer</td>\n",
       "      <td>61</td>\n",
       "      <td>Business travel</td>\n",
       "      <td>Business</td>\n",
       "      <td>214</td>\n",
       "      <td>3.0</td>\n",
       "      <td>3</td>\n",
       "      <td>3</td>\n",
       "      <td>...</td>\n",
       "      <td>3</td>\n",
       "      <td>NaN</td>\n",
       "      <td>4</td>\n",
       "      <td>3</td>\n",
       "      <td>3</td>\n",
       "      <td>3</td>\n",
       "      <td>0</td>\n",
       "      <td>0.0</td>\n",
       "      <td>satisfied</td>\n",
       "      <td>24065</td>\n",
       "    </tr>\n",
       "  </tbody>\n",
       "</table>\n",
       "<p>5 rows × 25 columns</p>\n",
       "</div>"
      ],
      "text/plain": [
       "       id  Gender      Customer Type  Age   Type of Travel     Class  \\\n",
       "0   70172    Male     Loyal Customer   13  Personal Travel  Eco Plus   \n",
       "1    5047    Male  disloyal Customer   25  Business travel  Business   \n",
       "2  110028  Female     Loyal Customer   26  Business travel  Business   \n",
       "3   24026  Female     Loyal Customer   25  Business travel       NaN   \n",
       "4  119299    Male     Loyal Customer   61  Business travel  Business   \n",
       "\n",
       "   Flight Distance  Inflight wifi service  Departure/Arrival time convenient  \\\n",
       "0              460                    3.0                                  4   \n",
       "1              235                    3.0                                  2   \n",
       "2             1142                    NaN                                  2   \n",
       "3              562                    2.0                                  5   \n",
       "4              214                    3.0                                  3   \n",
       "\n",
       "   Ease of Online booking  ...  On-board service  Leg room  Baggage handling  \\\n",
       "0                       3  ...                 4       3.0                 4   \n",
       "1                       3  ...                 1       5.0                 3   \n",
       "2                       2  ...                 4       3.0                 4   \n",
       "3                       5  ...                 2       5.0                 3   \n",
       "4                       3  ...                 3       NaN                 4   \n",
       "\n",
       "   Checkin service  In-flight service Cleanliness  Departure Delay  \\\n",
       "0                4                  5           5               25   \n",
       "1                1                  4           1                1   \n",
       "2                4                  4           5                0   \n",
       "3                1                  4           2               11   \n",
       "4                3                  3           3                0   \n",
       "\n",
       "  Arrival Delay in Minutes             satisfaction  participant_id  \n",
       "0                     18.0  neutral or dissatisfied           84012  \n",
       "1                      6.0  neutral or dissatisfied           52620  \n",
       "2                      0.0                satisfied           93655  \n",
       "3                      9.0  neutral or dissatisfied           48312  \n",
       "4                      0.0                satisfied           24065  \n",
       "\n",
       "[5 rows x 25 columns]"
      ]
     },
     "execution_count": 3,
     "metadata": {},
     "output_type": "execute_result"
    }
   ],
   "source": [
    "train.head()"
   ]
  },
  {
   "cell_type": "code",
   "execution_count": 4,
   "metadata": {},
   "outputs": [
    {
     "name": "stdout",
     "output_type": "stream",
     "text": [
      "train data shape is (103904, 25) and test data shape is (25976, 25)\n"
     ]
    }
   ],
   "source": [
    "print(f\"train data shape is {train.shape} and test data shape is {test.shape}\")"
   ]
  },
  {
   "cell_type": "markdown",
   "metadata": {},
   "source": [
    "## Exploratory Data Analysis"
   ]
  },
  {
   "cell_type": "markdown",
   "metadata": {},
   "source": [
    "### Although train and test data shape appear to have the same shape, they contain different features which needs to be unified at some point in the code"
   ]
  },
  {
   "cell_type": "code",
   "execution_count": 5,
   "metadata": {},
   "outputs": [
    {
     "name": "stdout",
     "output_type": "stream",
     "text": [
      "<class 'pandas.core.frame.DataFrame'>\n",
      "RangeIndex: 103904 entries, 0 to 103903\n",
      "Data columns (total 25 columns):\n",
      "id                                   103904 non-null int64\n",
      "Gender                               103904 non-null object\n",
      "Customer Type                        103904 non-null object\n",
      "Age                                  103904 non-null int64\n",
      "Type of Travel                       103904 non-null object\n",
      "Class                                93514 non-null object\n",
      "Flight Distance                      103904 non-null int64\n",
      "Inflight wifi service                93496 non-null float64\n",
      "Departure/Arrival time convenient    103904 non-null int64\n",
      "Ease of Online booking               103904 non-null int64\n",
      "Gate location                        103904 non-null int64\n",
      "Food and drink                       103904 non-null int64\n",
      "Online                               103904 non-null int64\n",
      "Seat comfort                         103904 non-null int64\n",
      "Inflight entertainment               103904 non-null int64\n",
      "On-board service                     103904 non-null object\n",
      "Leg room                             93592 non-null float64\n",
      "Baggage handling                     103904 non-null object\n",
      "Checkin service                      103904 non-null int64\n",
      "In-flight service                    103904 non-null int64\n",
      "Cleanliness                          103904 non-null int64\n",
      "Departure Delay                      103904 non-null int64\n",
      "Arrival Delay in Minutes             93174 non-null float64\n",
      "satisfaction                         103904 non-null object\n",
      "participant_id                       103904 non-null int64\n",
      "dtypes: float64(3), int64(15), object(7)\n",
      "memory usage: 19.8+ MB\n"
     ]
    }
   ],
   "source": [
    "# The info of the training dataset showing data types and counts of non null values\n",
    "train.info()"
   ]
  },
  {
   "cell_type": "code",
   "execution_count": 6,
   "metadata": {},
   "outputs": [
    {
     "data": {
      "text/html": [
       "<div>\n",
       "<style scoped>\n",
       "    .dataframe tbody tr th:only-of-type {\n",
       "        vertical-align: middle;\n",
       "    }\n",
       "\n",
       "    .dataframe tbody tr th {\n",
       "        vertical-align: top;\n",
       "    }\n",
       "\n",
       "    .dataframe thead th {\n",
       "        text-align: right;\n",
       "    }\n",
       "</style>\n",
       "<table border=\"1\" class=\"dataframe\">\n",
       "  <thead>\n",
       "    <tr style=\"text-align: right;\">\n",
       "      <th></th>\n",
       "      <th>id</th>\n",
       "      <th>Age</th>\n",
       "      <th>Flight Distance</th>\n",
       "      <th>Inflight wifi service</th>\n",
       "      <th>Departure/Arrival time convenient</th>\n",
       "      <th>Ease of Online booking</th>\n",
       "      <th>Gate location</th>\n",
       "      <th>Food and drink</th>\n",
       "      <th>Online</th>\n",
       "      <th>Seat comfort</th>\n",
       "      <th>Inflight entertainment</th>\n",
       "      <th>Leg room</th>\n",
       "      <th>Checkin service</th>\n",
       "      <th>In-flight service</th>\n",
       "      <th>Cleanliness</th>\n",
       "      <th>Departure Delay</th>\n",
       "      <th>Arrival Delay in Minutes</th>\n",
       "      <th>participant_id</th>\n",
       "    </tr>\n",
       "  </thead>\n",
       "  <tbody>\n",
       "    <tr>\n",
       "      <td>count</td>\n",
       "      <td>103904.000000</td>\n",
       "      <td>103904.000000</td>\n",
       "      <td>103904.000000</td>\n",
       "      <td>93496.000000</td>\n",
       "      <td>103904.000000</td>\n",
       "      <td>103904.000000</td>\n",
       "      <td>103904.000000</td>\n",
       "      <td>103904.000000</td>\n",
       "      <td>103904.000000</td>\n",
       "      <td>103904.000000</td>\n",
       "      <td>103904.000000</td>\n",
       "      <td>93592.000000</td>\n",
       "      <td>103904.000000</td>\n",
       "      <td>103904.000000</td>\n",
       "      <td>103904.000000</td>\n",
       "      <td>103904.000000</td>\n",
       "      <td>93174.000000</td>\n",
       "      <td>103904.000000</td>\n",
       "    </tr>\n",
       "    <tr>\n",
       "      <td>mean</td>\n",
       "      <td>64924.210502</td>\n",
       "      <td>39.379706</td>\n",
       "      <td>1234.092287</td>\n",
       "      <td>2.729892</td>\n",
       "      <td>3.060296</td>\n",
       "      <td>2.756901</td>\n",
       "      <td>2.976883</td>\n",
       "      <td>3.202129</td>\n",
       "      <td>3.250375</td>\n",
       "      <td>3.439396</td>\n",
       "      <td>3.358158</td>\n",
       "      <td>3.349261</td>\n",
       "      <td>3.304290</td>\n",
       "      <td>3.640428</td>\n",
       "      <td>3.286351</td>\n",
       "      <td>14.815618</td>\n",
       "      <td>15.109065</td>\n",
       "      <td>62172.765197</td>\n",
       "    </tr>\n",
       "    <tr>\n",
       "      <td>std</td>\n",
       "      <td>37463.812252</td>\n",
       "      <td>15.114964</td>\n",
       "      <td>1458.180425</td>\n",
       "      <td>1.327526</td>\n",
       "      <td>1.525075</td>\n",
       "      <td>1.398929</td>\n",
       "      <td>1.277621</td>\n",
       "      <td>1.329533</td>\n",
       "      <td>1.349509</td>\n",
       "      <td>1.319088</td>\n",
       "      <td>1.332991</td>\n",
       "      <td>1.316305</td>\n",
       "      <td>1.265396</td>\n",
       "      <td>1.175663</td>\n",
       "      <td>1.312273</td>\n",
       "      <td>38.230901</td>\n",
       "      <td>38.539457</td>\n",
       "      <td>35773.637042</td>\n",
       "    </tr>\n",
       "    <tr>\n",
       "      <td>min</td>\n",
       "      <td>1.000000</td>\n",
       "      <td>7.000000</td>\n",
       "      <td>31.000000</td>\n",
       "      <td>0.000000</td>\n",
       "      <td>0.000000</td>\n",
       "      <td>0.000000</td>\n",
       "      <td>0.000000</td>\n",
       "      <td>0.000000</td>\n",
       "      <td>0.000000</td>\n",
       "      <td>0.000000</td>\n",
       "      <td>0.000000</td>\n",
       "      <td>0.000000</td>\n",
       "      <td>0.000000</td>\n",
       "      <td>0.000000</td>\n",
       "      <td>0.000000</td>\n",
       "      <td>0.000000</td>\n",
       "      <td>0.000000</td>\n",
       "      <td>20.000000</td>\n",
       "    </tr>\n",
       "    <tr>\n",
       "      <td>25%</td>\n",
       "      <td>32533.750000</td>\n",
       "      <td>27.000000</td>\n",
       "      <td>414.000000</td>\n",
       "      <td>2.000000</td>\n",
       "      <td>2.000000</td>\n",
       "      <td>2.000000</td>\n",
       "      <td>2.000000</td>\n",
       "      <td>2.000000</td>\n",
       "      <td>2.000000</td>\n",
       "      <td>2.000000</td>\n",
       "      <td>2.000000</td>\n",
       "      <td>2.000000</td>\n",
       "      <td>3.000000</td>\n",
       "      <td>3.000000</td>\n",
       "      <td>2.000000</td>\n",
       "      <td>0.000000</td>\n",
       "      <td>0.000000</td>\n",
       "      <td>31201.000000</td>\n",
       "    </tr>\n",
       "    <tr>\n",
       "      <td>50%</td>\n",
       "      <td>64856.500000</td>\n",
       "      <td>40.000000</td>\n",
       "      <td>843.000000</td>\n",
       "      <td>3.000000</td>\n",
       "      <td>3.000000</td>\n",
       "      <td>3.000000</td>\n",
       "      <td>3.000000</td>\n",
       "      <td>3.000000</td>\n",
       "      <td>3.000000</td>\n",
       "      <td>4.000000</td>\n",
       "      <td>4.000000</td>\n",
       "      <td>4.000000</td>\n",
       "      <td>3.000000</td>\n",
       "      <td>4.000000</td>\n",
       "      <td>3.000000</td>\n",
       "      <td>0.000000</td>\n",
       "      <td>0.000000</td>\n",
       "      <td>62166.500000</td>\n",
       "    </tr>\n",
       "    <tr>\n",
       "      <td>75%</td>\n",
       "      <td>97368.250000</td>\n",
       "      <td>51.000000</td>\n",
       "      <td>1744.000000</td>\n",
       "      <td>4.000000</td>\n",
       "      <td>4.000000</td>\n",
       "      <td>4.000000</td>\n",
       "      <td>4.000000</td>\n",
       "      <td>4.000000</td>\n",
       "      <td>4.000000</td>\n",
       "      <td>5.000000</td>\n",
       "      <td>4.000000</td>\n",
       "      <td>4.000000</td>\n",
       "      <td>4.000000</td>\n",
       "      <td>5.000000</td>\n",
       "      <td>4.000000</td>\n",
       "      <td>12.000000</td>\n",
       "      <td>13.000000</td>\n",
       "      <td>93210.500000</td>\n",
       "    </tr>\n",
       "    <tr>\n",
       "      <td>max</td>\n",
       "      <td>129880.000000</td>\n",
       "      <td>85.000000</td>\n",
       "      <td>39400.000000</td>\n",
       "      <td>5.000000</td>\n",
       "      <td>5.000000</td>\n",
       "      <td>5.000000</td>\n",
       "      <td>5.000000</td>\n",
       "      <td>5.000000</td>\n",
       "      <td>5.000000</td>\n",
       "      <td>5.000000</td>\n",
       "      <td>5.000000</td>\n",
       "      <td>5.000000</td>\n",
       "      <td>5.000000</td>\n",
       "      <td>5.000000</td>\n",
       "      <td>5.000000</td>\n",
       "      <td>1592.000000</td>\n",
       "      <td>1584.000000</td>\n",
       "      <td>123973.000000</td>\n",
       "    </tr>\n",
       "  </tbody>\n",
       "</table>\n",
       "</div>"
      ],
      "text/plain": [
       "                  id            Age  Flight Distance  Inflight wifi service  \\\n",
       "count  103904.000000  103904.000000    103904.000000           93496.000000   \n",
       "mean    64924.210502      39.379706      1234.092287               2.729892   \n",
       "std     37463.812252      15.114964      1458.180425               1.327526   \n",
       "min         1.000000       7.000000        31.000000               0.000000   \n",
       "25%     32533.750000      27.000000       414.000000               2.000000   \n",
       "50%     64856.500000      40.000000       843.000000               3.000000   \n",
       "75%     97368.250000      51.000000      1744.000000               4.000000   \n",
       "max    129880.000000      85.000000     39400.000000               5.000000   \n",
       "\n",
       "       Departure/Arrival time convenient  Ease of Online booking  \\\n",
       "count                      103904.000000           103904.000000   \n",
       "mean                            3.060296                2.756901   \n",
       "std                             1.525075                1.398929   \n",
       "min                             0.000000                0.000000   \n",
       "25%                             2.000000                2.000000   \n",
       "50%                             3.000000                3.000000   \n",
       "75%                             4.000000                4.000000   \n",
       "max                             5.000000                5.000000   \n",
       "\n",
       "       Gate location  Food and drink         Online   Seat comfort  \\\n",
       "count  103904.000000   103904.000000  103904.000000  103904.000000   \n",
       "mean        2.976883        3.202129       3.250375       3.439396   \n",
       "std         1.277621        1.329533       1.349509       1.319088   \n",
       "min         0.000000        0.000000       0.000000       0.000000   \n",
       "25%         2.000000        2.000000       2.000000       2.000000   \n",
       "50%         3.000000        3.000000       3.000000       4.000000   \n",
       "75%         4.000000        4.000000       4.000000       5.000000   \n",
       "max         5.000000        5.000000       5.000000       5.000000   \n",
       "\n",
       "       Inflight entertainment      Leg room  Checkin service  \\\n",
       "count           103904.000000  93592.000000    103904.000000   \n",
       "mean                 3.358158      3.349261         3.304290   \n",
       "std                  1.332991      1.316305         1.265396   \n",
       "min                  0.000000      0.000000         0.000000   \n",
       "25%                  2.000000      2.000000         3.000000   \n",
       "50%                  4.000000      4.000000         3.000000   \n",
       "75%                  4.000000      4.000000         4.000000   \n",
       "max                  5.000000      5.000000         5.000000   \n",
       "\n",
       "       In-flight service    Cleanliness  Departure Delay  \\\n",
       "count      103904.000000  103904.000000    103904.000000   \n",
       "mean            3.640428       3.286351        14.815618   \n",
       "std             1.175663       1.312273        38.230901   \n",
       "min             0.000000       0.000000         0.000000   \n",
       "25%             3.000000       2.000000         0.000000   \n",
       "50%             4.000000       3.000000         0.000000   \n",
       "75%             5.000000       4.000000        12.000000   \n",
       "max             5.000000       5.000000      1592.000000   \n",
       "\n",
       "       Arrival Delay in Minutes  participant_id  \n",
       "count              93174.000000   103904.000000  \n",
       "mean                  15.109065    62172.765197  \n",
       "std                   38.539457    35773.637042  \n",
       "min                    0.000000       20.000000  \n",
       "25%                    0.000000    31201.000000  \n",
       "50%                    0.000000    62166.500000  \n",
       "75%                   13.000000    93210.500000  \n",
       "max                 1584.000000   123973.000000  "
      ]
     },
     "execution_count": 6,
     "metadata": {},
     "output_type": "execute_result"
    }
   ],
   "source": [
    "## Train data description containing the statistics of different features in the training dataset\n",
    "train.describe()"
   ]
  },
  {
   "cell_type": "code",
   "execution_count": 7,
   "metadata": {},
   "outputs": [
    {
     "name": "stdout",
     "output_type": "stream",
     "text": [
      "<class 'pandas.core.frame.DataFrame'>\n",
      "RangeIndex: 25976 entries, 0 to 25975\n",
      "Data columns (total 25 columns):\n",
      "Unnamed: 0                           25976 non-null int64\n",
      "id                                   25976 non-null int64\n",
      "Gender                               25976 non-null object\n",
      "Customer Type                        25976 non-null object\n",
      "Age                                  25976 non-null int64\n",
      "Type of Travel                       24912 non-null object\n",
      "Class                                25976 non-null object\n",
      "Flight Distance                      25976 non-null int64\n",
      "Inflight wifi service                25976 non-null int64\n",
      "Departure/Arrival time convenient    25976 non-null int64\n",
      "Ease of Online booking               25976 non-null int64\n",
      "Gate location                        25976 non-null int64\n",
      "Food and drink                       25976 non-null int64\n",
      "Online boarding                      25976 non-null int64\n",
      "Seat comfort                         25976 non-null int64\n",
      "Inflight entertainment               25976 non-null int64\n",
      "On-board service                     25976 non-null int64\n",
      "Leg room service                     24962 non-null float64\n",
      "Baggage handling                     25976 non-null int64\n",
      "Miles Program                        25976 non-null int64\n",
      "Inflight service                     25976 non-null int64\n",
      "Cleanliness                          25976 non-null int64\n",
      "Departure Delay in Minutes           25976 non-null int64\n",
      "Arrival Delay in Minutes             25893 non-null float64\n",
      "satisfaction                         25976 non-null object\n",
      "dtypes: float64(2), int64(18), object(5)\n",
      "memory usage: 5.0+ MB\n"
     ]
    }
   ],
   "source": [
    "# The info of the testing dataset showing data types and counts of non null values\n",
    "test.info()"
   ]
  },
  {
   "cell_type": "markdown",
   "metadata": {},
   "source": [
    "### Making the names consistent in train and test data"
   ]
  },
  {
   "cell_type": "code",
   "execution_count": 8,
   "metadata": {},
   "outputs": [],
   "source": [
    "train = train.rename({'In-flight service':'Inflight service','Online':'Online boarding',\\\n",
    "                    'Leg room':'Leg room service'},axis=1)\n",
    "test = test.rename({'Departure Delay in Minutes':'Departure Delay'},axis=1)\n"
   ]
  },
  {
   "cell_type": "code",
   "execution_count": 9,
   "metadata": {},
   "outputs": [
    {
     "data": {
      "text/plain": [
       "Female    52727\n",
       "Male      51177\n",
       "Name: Gender, dtype: int64"
      ]
     },
     "execution_count": 9,
     "metadata": {},
     "output_type": "execute_result"
    }
   ],
   "source": [
    "train.Gender.value_counts()"
   ]
  },
  {
   "cell_type": "code",
   "execution_count": 10,
   "metadata": {},
   "outputs": [
    {
     "data": {
      "text/plain": [
       "Loyal Customer       84766\n",
       "disloyal Customer    18981\n",
       "Loyal, Customer        157\n",
       "Name: Customer Type, dtype: int64"
      ]
     },
     "execution_count": 10,
     "metadata": {},
     "output_type": "execute_result"
    }
   ],
   "source": [
    "# The customer type data has some data quality issues which needs to be addressed \n",
    "train['Customer Type'].value_counts()"
   ]
  },
  {
   "cell_type": "code",
   "execution_count": 11,
   "metadata": {},
   "outputs": [],
   "source": [
    "## addressing the data quality issues of the customer type data\n",
    "train['Customer Type'] = train['Customer Type'].map({'Loyal, Customer':'Loyal Customer',\\\n",
    "                                                     'Loyal Customer':'Loyal Customer',\\\n",
    "                                                'disloyal Customer':'disloyal Customer'})\n",
    "test['Customer Type'] = test['Customer Type'].map({'Loyal, Customer':'Loyal Customer',\\\n",
    "                                                     'Loyal Customer':'Loyal Customer',\\\n",
    "                                                'disloyal Customer':'disloyal Customer'})"
   ]
  },
  {
   "cell_type": "code",
   "execution_count": 12,
   "metadata": {},
   "outputs": [
    {
     "data": {
      "text/plain": [
       "Loyal Customer       84923\n",
       "disloyal Customer    18981\n",
       "Name: Customer Type, dtype: int64"
      ]
     },
     "execution_count": 12,
     "metadata": {},
     "output_type": "execute_result"
    }
   ],
   "source": [
    "train['Customer Type'].value_counts()"
   ]
  },
  {
   "cell_type": "code",
   "execution_count": 13,
   "metadata": {},
   "outputs": [
    {
     "data": {
      "text/plain": [
       "Business travel       71505\n",
       "Personal Travel       32249\n",
       "Business Travel         135\n",
       "Business \\n Travel       15\n",
       "Name: Type of Travel, dtype: int64"
      ]
     },
     "execution_count": 13,
     "metadata": {},
     "output_type": "execute_result"
    }
   ],
   "source": [
    "## The type of travel field has some data quality issues that needs to be addressed.\n",
    "train['Type of Travel'].value_counts()"
   ]
  },
  {
   "cell_type": "code",
   "execution_count": 14,
   "metadata": {},
   "outputs": [],
   "source": [
    "## addressing the data quality issues of the type of travel fields\n",
    "train['Type of Travel'] = train['Type of Travel'].apply(lambda x: 'Personal Travel' if x == 'Personal Travel' else 'Business Travel')\n",
    "test['Type of Travel'] = test['Type of Travel'].apply(lambda x: 'Personal Travel' if x == 'Personal Travel' else 'Business Travel')"
   ]
  },
  {
   "cell_type": "code",
   "execution_count": 15,
   "metadata": {},
   "outputs": [
    {
     "data": {
      "text/plain": [
       "Business Travel    71655\n",
       "Personal Travel    32249\n",
       "Name: Type of Travel, dtype: int64"
      ]
     },
     "execution_count": 15,
     "metadata": {},
     "output_type": "execute_result"
    }
   ],
   "source": [
    "train['Type of Travel'].value_counts()"
   ]
  },
  {
   "cell_type": "code",
   "execution_count": 16,
   "metadata": {},
   "outputs": [
    {
     "data": {
      "text/plain": [
       "Business    44649\n",
       "Eco         42109\n",
       "Eco Plus     6756\n",
       "Name: Class, dtype: int64"
      ]
     },
     "execution_count": 16,
     "metadata": {},
     "output_type": "execute_result"
    }
   ],
   "source": [
    "train.Class.value_counts()"
   ]
  },
  {
   "cell_type": "code",
   "execution_count": 17,
   "metadata": {},
   "outputs": [
    {
     "data": {
      "text/plain": [
       "neutral or dissatisfied    58876\n",
       "satisfied                  45025\n",
       "dissatisfied                   3\n",
       "Name: satisfaction, dtype: int64"
      ]
     },
     "execution_count": 17,
     "metadata": {},
     "output_type": "execute_result"
    }
   ],
   "source": [
    "## The train and test data have different values for the satisfaction field. Unifing them in the next step\n",
    "train.satisfaction.value_counts()"
   ]
  },
  {
   "cell_type": "code",
   "execution_count": 18,
   "metadata": {},
   "outputs": [
    {
     "data": {
      "text/plain": [
       "neutral or dissatisfied    14573\n",
       "satisfied                  11403\n",
       "Name: satisfaction, dtype: int64"
      ]
     },
     "execution_count": 18,
     "metadata": {},
     "output_type": "execute_result"
    }
   ],
   "source": [
    "test.satisfaction.value_counts()"
   ]
  },
  {
   "cell_type": "code",
   "execution_count": 19,
   "metadata": {},
   "outputs": [],
   "source": [
    "train['satisfaction']=train.satisfaction.map({'neutral or dissatisfied':0,'satisfied':1,'dissatisfied':0})\n",
    "test['satisfaction']=test.satisfaction.map({'neutral or dissatisfied':0,'satisfied':1,'dissatisfied':0})"
   ]
  },
  {
   "cell_type": "code",
   "execution_count": 20,
   "metadata": {},
   "outputs": [
    {
     "data": {
      "text/plain": [
       "0    58879\n",
       "1    45025\n",
       "Name: satisfaction, dtype: int64"
      ]
     },
     "execution_count": 20,
     "metadata": {},
     "output_type": "execute_result"
    }
   ],
   "source": [
    "train['satisfaction'].value_counts()"
   ]
  },
  {
   "cell_type": "code",
   "execution_count": 21,
   "metadata": {},
   "outputs": [
    {
     "data": {
      "text/plain": [
       "0    14573\n",
       "1    11403\n",
       "Name: satisfaction, dtype: int64"
      ]
     },
     "execution_count": 21,
     "metadata": {},
     "output_type": "execute_result"
    }
   ],
   "source": [
    "test['satisfaction'].value_counts()"
   ]
  },
  {
   "cell_type": "markdown",
   "metadata": {},
   "source": [
    "### Plotting some histograms for different fields"
   ]
  },
  {
   "cell_type": "code",
   "execution_count": 22,
   "metadata": {},
   "outputs": [
    {
     "data": {
      "text/plain": [
       "Text(0.5, 1.0, 'Histogram of Food and drink')"
      ]
     },
     "execution_count": 22,
     "metadata": {},
     "output_type": "execute_result"
    },
    {
     "data": {
      "image/png": "[encoded data removed]",
      "text/plain": [
       "<Figure size 432x288 with 1 Axes>"
      ]
     },
     "metadata": {
      "needs_background": "light"
     },
     "output_type": "display_data"
    }
   ],
   "source": [
    "%matplotlib inline\n",
    "import matplotlib.pyplot as plt\n",
    "plt.hist(train['Food and drink'], bins = 10)\n",
    "plt.title('Histogram of Food and drink') "
   ]
  },
  {
   "cell_type": "code",
   "execution_count": 23,
   "metadata": {},
   "outputs": [
    {
     "data": {
      "text/plain": [
       "Text(0.5, 1.0, 'Histogram of Age')"
      ]
     },
     "execution_count": 23,
     "metadata": {},
     "output_type": "execute_result"
    },
    {
     "data": {
      "image/png": "[encoded data removed]",
      "text/plain": [
       "<Figure size 432x288 with 1 Axes>"
      ]
     },
     "metadata": {
      "needs_background": "light"
     },
     "output_type": "display_data"
    }
   ],
   "source": [
    "%matplotlib inline\n",
    "import matplotlib.pyplot as plt\n",
    "plt.hist(train['Age'], bins = 10)\n",
    "plt.title('Histogram of Age') \n",
    "#train['Age'].hist()"
   ]
  },
  {
   "cell_type": "code",
   "execution_count": 24,
   "metadata": {},
   "outputs": [
    {
     "data": {
      "text/plain": [
       "Text(0.5, 1.0, 'Histogram of Flight Distance')"
      ]
     },
     "execution_count": 24,
     "metadata": {},
     "output_type": "execute_result"
    },
    {
     "data": {
      "image/png": "[encoded data removed]",
      "text/plain": [
       "<Figure size 432x288 with 1 Axes>"
      ]
     },
     "metadata": {
      "needs_background": "light"
     },
     "output_type": "display_data"
    }
   ],
   "source": [
    "plt.hist(train['Flight Distance'], bins = 100)\n",
    "plt.title('Histogram of Flight Distance')"
   ]
  },
  {
   "cell_type": "markdown",
   "metadata": {},
   "source": [
    "### Checking the impact of some features on satisfaction"
   ]
  },
  {
   "cell_type": "code",
   "execution_count": 25,
   "metadata": {},
   "outputs": [
    {
     "data": {
      "image/png": "[encoded data removed]",
      "text/plain": [
       "<Figure size 1080x180 with 6 Axes>"
      ]
     },
     "metadata": {},
     "output_type": "display_data"
    }
   ],
   "source": [
    "# Cleanliness\n",
    "import seaborn as sns\n",
    "with sns.axes_style(style='ticks'):\n",
    "    g = sns.catplot(\"satisfaction\", col=\"Cleanliness\", col_wrap=6, data=train, kind=\"count\", height=2.5, aspect=1.0)\n",
    "    g.set(xlabel='satisfaction', ylabel='Cleanliness')"
   ]
  },
  {
   "cell_type": "code",
   "execution_count": 26,
   "metadata": {},
   "outputs": [
    {
     "data": {
      "image/png": "[encoded data removed]",
      "text/plain": [
       "<Figure size 1080x180 with 6 Axes>"
      ]
     },
     "metadata": {},
     "output_type": "display_data"
    }
   ],
   "source": [
    "# Seat comfort\n",
    "import seaborn as sns\n",
    "with sns.axes_style(style='ticks'):\n",
    "    g = sns.catplot(\"satisfaction\", col=\"Seat comfort\", col_wrap=6, data=train, kind=\"count\", height=2.5, aspect=1.0)\n",
    "    g.set(xlabel='satisfaction', ylabel='Seat comfort')"
   ]
  },
  {
   "cell_type": "code",
   "execution_count": 27,
   "metadata": {},
   "outputs": [
    {
     "data": {
      "image/png": "[encoded data removed]",
      "text/plain": [
       "<Figure size 1080x180 with 6 Axes>"
      ]
     },
     "metadata": {},
     "output_type": "display_data"
    }
   ],
   "source": [
    "# Online boarding\n",
    "import seaborn as sns\n",
    "with sns.axes_style(style='ticks'):\n",
    "    g = sns.catplot(\"satisfaction\", col=\"Online boarding\", col_wrap=6, data=train, kind=\"count\", height=2.5, aspect=1.0)\n",
    "    g.set(xlabel='satisfaction', ylabel='Online boarding')\n"
   ]
  },
  {
   "cell_type": "code",
   "execution_count": 28,
   "metadata": {},
   "outputs": [
    {
     "data": {
      "text/html": [
       "<div>\n",
       "<style scoped>\n",
       "    .dataframe tbody tr th:only-of-type {\n",
       "        vertical-align: middle;\n",
       "    }\n",
       "\n",
       "    .dataframe tbody tr th {\n",
       "        vertical-align: top;\n",
       "    }\n",
       "\n",
       "    .dataframe thead th {\n",
       "        text-align: right;\n",
       "    }\n",
       "</style>\n",
       "<table border=\"1\" class=\"dataframe\">\n",
       "  <thead>\n",
       "    <tr style=\"text-align: right;\">\n",
       "      <th></th>\n",
       "      <th>id</th>\n",
       "      <th>Age</th>\n",
       "      <th>Flight Distance</th>\n",
       "      <th>Inflight wifi service</th>\n",
       "      <th>Departure/Arrival time convenient</th>\n",
       "      <th>Ease of Online booking</th>\n",
       "      <th>Gate location</th>\n",
       "      <th>Food and drink</th>\n",
       "      <th>Online boarding</th>\n",
       "      <th>Seat comfort</th>\n",
       "      <th>Inflight entertainment</th>\n",
       "      <th>Leg room service</th>\n",
       "      <th>Checkin service</th>\n",
       "      <th>Inflight service</th>\n",
       "      <th>Cleanliness</th>\n",
       "      <th>Departure Delay</th>\n",
       "      <th>Arrival Delay in Minutes</th>\n",
       "      <th>satisfaction</th>\n",
       "      <th>participant_id</th>\n",
       "    </tr>\n",
       "  </thead>\n",
       "  <tbody>\n",
       "    <tr>\n",
       "      <td>id</td>\n",
       "      <td>1.000000</td>\n",
       "      <td>0.022857</td>\n",
       "      <td>0.071496</td>\n",
       "      <td>-0.021741</td>\n",
       "      <td>-0.002110</td>\n",
       "      <td>0.014163</td>\n",
       "      <td>-0.000606</td>\n",
       "      <td>0.001063</td>\n",
       "      <td>0.055477</td>\n",
       "      <td>0.052903</td>\n",
       "      <td>0.002300</td>\n",
       "      <td>0.045896</td>\n",
       "      <td>0.079273</td>\n",
       "      <td>0.079346</td>\n",
       "      <td>0.024965</td>\n",
       "      <td>-0.019546</td>\n",
       "      <td>-0.037545</td>\n",
       "      <td>0.013734</td>\n",
       "      <td>-0.000876</td>\n",
       "    </tr>\n",
       "    <tr>\n",
       "      <td>Age</td>\n",
       "      <td>0.022857</td>\n",
       "      <td>1.000000</td>\n",
       "      <td>0.073984</td>\n",
       "      <td>0.017499</td>\n",
       "      <td>0.038125</td>\n",
       "      <td>0.024842</td>\n",
       "      <td>-0.001330</td>\n",
       "      <td>0.023000</td>\n",
       "      <td>0.208939</td>\n",
       "      <td>0.160277</td>\n",
       "      <td>0.076444</td>\n",
       "      <td>0.039268</td>\n",
       "      <td>0.035482</td>\n",
       "      <td>-0.049427</td>\n",
       "      <td>0.053611</td>\n",
       "      <td>-0.010152</td>\n",
       "      <td>-0.010873</td>\n",
       "      <td>0.137167</td>\n",
       "      <td>0.000425</td>\n",
       "    </tr>\n",
       "    <tr>\n",
       "      <td>Flight Distance</td>\n",
       "      <td>0.071496</td>\n",
       "      <td>0.073984</td>\n",
       "      <td>1.000000</td>\n",
       "      <td>0.003319</td>\n",
       "      <td>-0.014301</td>\n",
       "      <td>0.050086</td>\n",
       "      <td>0.002632</td>\n",
       "      <td>0.041174</td>\n",
       "      <td>0.152519</td>\n",
       "      <td>0.110447</td>\n",
       "      <td>0.090478</td>\n",
       "      <td>0.098329</td>\n",
       "      <td>0.053092</td>\n",
       "      <td>0.041491</td>\n",
       "      <td>0.062030</td>\n",
       "      <td>0.001473</td>\n",
       "      <td>-0.001699</td>\n",
       "      <td>0.214843</td>\n",
       "      <td>-0.000985</td>\n",
       "    </tr>\n",
       "    <tr>\n",
       "      <td>Inflight wifi service</td>\n",
       "      <td>-0.021741</td>\n",
       "      <td>0.017499</td>\n",
       "      <td>0.003319</td>\n",
       "      <td>1.000000</td>\n",
       "      <td>0.342443</td>\n",
       "      <td>0.714960</td>\n",
       "      <td>0.337005</td>\n",
       "      <td>0.133893</td>\n",
       "      <td>0.455169</td>\n",
       "      <td>0.122824</td>\n",
       "      <td>0.207609</td>\n",
       "      <td>0.159518</td>\n",
       "      <td>0.044928</td>\n",
       "      <td>0.109331</td>\n",
       "      <td>0.132112</td>\n",
       "      <td>-0.017251</td>\n",
       "      <td>-0.020016</td>\n",
       "      <td>0.283587</td>\n",
       "      <td>0.002560</td>\n",
       "    </tr>\n",
       "    <tr>\n",
       "      <td>Departure/Arrival time convenient</td>\n",
       "      <td>-0.002110</td>\n",
       "      <td>0.038125</td>\n",
       "      <td>-0.014301</td>\n",
       "      <td>0.342443</td>\n",
       "      <td>1.000000</td>\n",
       "      <td>0.436961</td>\n",
       "      <td>0.444757</td>\n",
       "      <td>0.004906</td>\n",
       "      <td>0.070119</td>\n",
       "      <td>0.011344</td>\n",
       "      <td>-0.004861</td>\n",
       "      <td>0.014718</td>\n",
       "      <td>0.093333</td>\n",
       "      <td>0.073318</td>\n",
       "      <td>0.014292</td>\n",
       "      <td>0.001005</td>\n",
       "      <td>-0.000492</td>\n",
       "      <td>-0.051601</td>\n",
       "      <td>-0.003555</td>\n",
       "    </tr>\n",
       "    <tr>\n",
       "      <td>Ease of Online booking</td>\n",
       "      <td>0.014163</td>\n",
       "      <td>0.024842</td>\n",
       "      <td>0.050086</td>\n",
       "      <td>0.714960</td>\n",
       "      <td>0.436961</td>\n",
       "      <td>1.000000</td>\n",
       "      <td>0.458655</td>\n",
       "      <td>0.031873</td>\n",
       "      <td>0.404074</td>\n",
       "      <td>0.030014</td>\n",
       "      <td>0.047032</td>\n",
       "      <td>0.107482</td>\n",
       "      <td>0.011081</td>\n",
       "      <td>0.035272</td>\n",
       "      <td>0.016179</td>\n",
       "      <td>-0.006371</td>\n",
       "      <td>-0.009574</td>\n",
       "      <td>0.171705</td>\n",
       "      <td>0.000997</td>\n",
       "    </tr>\n",
       "    <tr>\n",
       "      <td>Gate location</td>\n",
       "      <td>-0.000606</td>\n",
       "      <td>-0.001330</td>\n",
       "      <td>0.002632</td>\n",
       "      <td>0.337005</td>\n",
       "      <td>0.444757</td>\n",
       "      <td>0.458655</td>\n",
       "      <td>1.000000</td>\n",
       "      <td>-0.001159</td>\n",
       "      <td>0.001688</td>\n",
       "      <td>0.003669</td>\n",
       "      <td>0.003517</td>\n",
       "      <td>-0.006235</td>\n",
       "      <td>-0.035427</td>\n",
       "      <td>0.001681</td>\n",
       "      <td>-0.003830</td>\n",
       "      <td>0.005467</td>\n",
       "      <td>0.004810</td>\n",
       "      <td>0.000682</td>\n",
       "      <td>0.000466</td>\n",
       "    </tr>\n",
       "    <tr>\n",
       "      <td>Food and drink</td>\n",
       "      <td>0.001063</td>\n",
       "      <td>0.023000</td>\n",
       "      <td>0.041174</td>\n",
       "      <td>0.133893</td>\n",
       "      <td>0.004906</td>\n",
       "      <td>0.031873</td>\n",
       "      <td>-0.001159</td>\n",
       "      <td>1.000000</td>\n",
       "      <td>0.234468</td>\n",
       "      <td>0.574556</td>\n",
       "      <td>0.622512</td>\n",
       "      <td>0.032499</td>\n",
       "      <td>0.087299</td>\n",
       "      <td>0.033993</td>\n",
       "      <td>0.657760</td>\n",
       "      <td>-0.029926</td>\n",
       "      <td>-0.032439</td>\n",
       "      <td>0.209936</td>\n",
       "      <td>0.002345</td>\n",
       "    </tr>\n",
       "    <tr>\n",
       "      <td>Online boarding</td>\n",
       "      <td>0.055477</td>\n",
       "      <td>0.208939</td>\n",
       "      <td>0.152519</td>\n",
       "      <td>0.455169</td>\n",
       "      <td>0.070119</td>\n",
       "      <td>0.404074</td>\n",
       "      <td>0.001688</td>\n",
       "      <td>0.234468</td>\n",
       "      <td>1.000000</td>\n",
       "      <td>0.420211</td>\n",
       "      <td>0.285066</td>\n",
       "      <td>0.122915</td>\n",
       "      <td>0.204462</td>\n",
       "      <td>0.074573</td>\n",
       "      <td>0.331517</td>\n",
       "      <td>-0.018982</td>\n",
       "      <td>-0.020267</td>\n",
       "      <td>0.503557</td>\n",
       "      <td>0.000346</td>\n",
       "    </tr>\n",
       "    <tr>\n",
       "      <td>Seat comfort</td>\n",
       "      <td>0.052903</td>\n",
       "      <td>0.160277</td>\n",
       "      <td>0.110447</td>\n",
       "      <td>0.122824</td>\n",
       "      <td>0.011344</td>\n",
       "      <td>0.030014</td>\n",
       "      <td>0.003669</td>\n",
       "      <td>0.574556</td>\n",
       "      <td>0.420211</td>\n",
       "      <td>1.000000</td>\n",
       "      <td>0.610590</td>\n",
       "      <td>0.106391</td>\n",
       "      <td>0.191854</td>\n",
       "      <td>0.069218</td>\n",
       "      <td>0.678534</td>\n",
       "      <td>-0.027898</td>\n",
       "      <td>-0.028546</td>\n",
       "      <td>0.349459</td>\n",
       "      <td>-0.000733</td>\n",
       "    </tr>\n",
       "    <tr>\n",
       "      <td>Inflight entertainment</td>\n",
       "      <td>0.002300</td>\n",
       "      <td>0.076444</td>\n",
       "      <td>0.090478</td>\n",
       "      <td>0.207609</td>\n",
       "      <td>-0.004861</td>\n",
       "      <td>0.047032</td>\n",
       "      <td>0.003517</td>\n",
       "      <td>0.622512</td>\n",
       "      <td>0.285066</td>\n",
       "      <td>0.610590</td>\n",
       "      <td>1.000000</td>\n",
       "      <td>0.300685</td>\n",
       "      <td>0.120867</td>\n",
       "      <td>0.404855</td>\n",
       "      <td>0.691815</td>\n",
       "      <td>-0.027489</td>\n",
       "      <td>-0.032206</td>\n",
       "      <td>0.398059</td>\n",
       "      <td>0.005904</td>\n",
       "    </tr>\n",
       "    <tr>\n",
       "      <td>Leg room service</td>\n",
       "      <td>0.045896</td>\n",
       "      <td>0.039268</td>\n",
       "      <td>0.098329</td>\n",
       "      <td>0.159518</td>\n",
       "      <td>0.014718</td>\n",
       "      <td>0.107482</td>\n",
       "      <td>-0.006235</td>\n",
       "      <td>0.032499</td>\n",
       "      <td>0.122915</td>\n",
       "      <td>0.106391</td>\n",
       "      <td>0.300685</td>\n",
       "      <td>1.000000</td>\n",
       "      <td>0.151729</td>\n",
       "      <td>0.369363</td>\n",
       "      <td>0.096822</td>\n",
       "      <td>0.014592</td>\n",
       "      <td>0.012832</td>\n",
       "      <td>0.313471</td>\n",
       "      <td>0.005702</td>\n",
       "    </tr>\n",
       "    <tr>\n",
       "      <td>Checkin service</td>\n",
       "      <td>0.079273</td>\n",
       "      <td>0.035482</td>\n",
       "      <td>0.053092</td>\n",
       "      <td>0.044928</td>\n",
       "      <td>0.093333</td>\n",
       "      <td>0.011081</td>\n",
       "      <td>-0.035427</td>\n",
       "      <td>0.087299</td>\n",
       "      <td>0.204462</td>\n",
       "      <td>0.191854</td>\n",
       "      <td>0.120867</td>\n",
       "      <td>0.151729</td>\n",
       "      <td>1.000000</td>\n",
       "      <td>0.237197</td>\n",
       "      <td>0.179583</td>\n",
       "      <td>-0.018453</td>\n",
       "      <td>-0.018324</td>\n",
       "      <td>0.236174</td>\n",
       "      <td>0.000648</td>\n",
       "    </tr>\n",
       "    <tr>\n",
       "      <td>Inflight service</td>\n",
       "      <td>0.079346</td>\n",
       "      <td>-0.049427</td>\n",
       "      <td>0.041491</td>\n",
       "      <td>0.109331</td>\n",
       "      <td>0.073318</td>\n",
       "      <td>0.035272</td>\n",
       "      <td>0.001681</td>\n",
       "      <td>0.033993</td>\n",
       "      <td>0.074573</td>\n",
       "      <td>0.069218</td>\n",
       "      <td>0.404855</td>\n",
       "      <td>0.369363</td>\n",
       "      <td>0.237197</td>\n",
       "      <td>1.000000</td>\n",
       "      <td>0.088779</td>\n",
       "      <td>-0.054813</td>\n",
       "      <td>-0.058374</td>\n",
       "      <td>0.244741</td>\n",
       "      <td>0.008027</td>\n",
       "    </tr>\n",
       "    <tr>\n",
       "      <td>Cleanliness</td>\n",
       "      <td>0.024965</td>\n",
       "      <td>0.053611</td>\n",
       "      <td>0.062030</td>\n",
       "      <td>0.132112</td>\n",
       "      <td>0.014292</td>\n",
       "      <td>0.016179</td>\n",
       "      <td>-0.003830</td>\n",
       "      <td>0.657760</td>\n",
       "      <td>0.331517</td>\n",
       "      <td>0.678534</td>\n",
       "      <td>0.691815</td>\n",
       "      <td>0.096822</td>\n",
       "      <td>0.179583</td>\n",
       "      <td>0.088779</td>\n",
       "      <td>1.000000</td>\n",
       "      <td>-0.014093</td>\n",
       "      <td>-0.013527</td>\n",
       "      <td>0.305198</td>\n",
       "      <td>0.002554</td>\n",
       "    </tr>\n",
       "    <tr>\n",
       "      <td>Departure Delay</td>\n",
       "      <td>-0.019546</td>\n",
       "      <td>-0.010152</td>\n",
       "      <td>0.001473</td>\n",
       "      <td>-0.017251</td>\n",
       "      <td>0.001005</td>\n",
       "      <td>-0.006371</td>\n",
       "      <td>0.005467</td>\n",
       "      <td>-0.029926</td>\n",
       "      <td>-0.018982</td>\n",
       "      <td>-0.027898</td>\n",
       "      <td>-0.027489</td>\n",
       "      <td>0.014592</td>\n",
       "      <td>-0.018453</td>\n",
       "      <td>-0.054813</td>\n",
       "      <td>-0.014093</td>\n",
       "      <td>1.000000</td>\n",
       "      <td>0.965342</td>\n",
       "      <td>-0.050494</td>\n",
       "      <td>0.000597</td>\n",
       "    </tr>\n",
       "    <tr>\n",
       "      <td>Arrival Delay in Minutes</td>\n",
       "      <td>-0.037545</td>\n",
       "      <td>-0.010873</td>\n",
       "      <td>-0.001699</td>\n",
       "      <td>-0.020016</td>\n",
       "      <td>-0.000492</td>\n",
       "      <td>-0.009574</td>\n",
       "      <td>0.004810</td>\n",
       "      <td>-0.032439</td>\n",
       "      <td>-0.020267</td>\n",
       "      <td>-0.028546</td>\n",
       "      <td>-0.032206</td>\n",
       "      <td>0.012832</td>\n",
       "      <td>-0.018324</td>\n",
       "      <td>-0.058374</td>\n",
       "      <td>-0.013527</td>\n",
       "      <td>0.965342</td>\n",
       "      <td>1.000000</td>\n",
       "      <td>-0.058710</td>\n",
       "      <td>-0.000892</td>\n",
       "    </tr>\n",
       "    <tr>\n",
       "      <td>satisfaction</td>\n",
       "      <td>0.013734</td>\n",
       "      <td>0.137167</td>\n",
       "      <td>0.214843</td>\n",
       "      <td>0.283587</td>\n",
       "      <td>-0.051601</td>\n",
       "      <td>0.171705</td>\n",
       "      <td>0.000682</td>\n",
       "      <td>0.209936</td>\n",
       "      <td>0.503557</td>\n",
       "      <td>0.349459</td>\n",
       "      <td>0.398059</td>\n",
       "      <td>0.313471</td>\n",
       "      <td>0.236174</td>\n",
       "      <td>0.244741</td>\n",
       "      <td>0.305198</td>\n",
       "      <td>-0.050494</td>\n",
       "      <td>-0.058710</td>\n",
       "      <td>1.000000</td>\n",
       "      <td>-0.001191</td>\n",
       "    </tr>\n",
       "    <tr>\n",
       "      <td>participant_id</td>\n",
       "      <td>-0.000876</td>\n",
       "      <td>0.000425</td>\n",
       "      <td>-0.000985</td>\n",
       "      <td>0.002560</td>\n",
       "      <td>-0.003555</td>\n",
       "      <td>0.000997</td>\n",
       "      <td>0.000466</td>\n",
       "      <td>0.002345</td>\n",
       "      <td>0.000346</td>\n",
       "      <td>-0.000733</td>\n",
       "      <td>0.005904</td>\n",
       "      <td>0.005702</td>\n",
       "      <td>0.000648</td>\n",
       "      <td>0.008027</td>\n",
       "      <td>0.002554</td>\n",
       "      <td>0.000597</td>\n",
       "      <td>-0.000892</td>\n",
       "      <td>-0.001191</td>\n",
       "      <td>1.000000</td>\n",
       "    </tr>\n",
       "  </tbody>\n",
       "</table>\n",
       "</div>"
      ],
      "text/plain": [
       "                                         id       Age  Flight Distance  \\\n",
       "id                                 1.000000  0.022857         0.071496   \n",
       "Age                                0.022857  1.000000         0.073984   \n",
       "Flight Distance                    0.071496  0.073984         1.000000   \n",
       "Inflight wifi service             -0.021741  0.017499         0.003319   \n",
       "Departure/Arrival time convenient -0.002110  0.038125        -0.014301   \n",
       "Ease of Online booking             0.014163  0.024842         0.050086   \n",
       "Gate location                     -0.000606 -0.001330         0.002632   \n",
       "Food and drink                     0.001063  0.023000         0.041174   \n",
       "Online boarding                    0.055477  0.208939         0.152519   \n",
       "Seat comfort                       0.052903  0.160277         0.110447   \n",
       "Inflight entertainment             0.002300  0.076444         0.090478   \n",
       "Leg room service                   0.045896  0.039268         0.098329   \n",
       "Checkin service                    0.079273  0.035482         0.053092   \n",
       "Inflight service                   0.079346 -0.049427         0.041491   \n",
       "Cleanliness                        0.024965  0.053611         0.062030   \n",
       "Departure Delay                   -0.019546 -0.010152         0.001473   \n",
       "Arrival Delay in Minutes          -0.037545 -0.010873        -0.001699   \n",
       "satisfaction                       0.013734  0.137167         0.214843   \n",
       "participant_id                    -0.000876  0.000425        -0.000985   \n",
       "\n",
       "                                   Inflight wifi service  \\\n",
       "id                                             -0.021741   \n",
       "Age                                             0.017499   \n",
       "Flight Distance                                 0.003319   \n",
       "Inflight wifi service                           1.000000   \n",
       "Departure/Arrival time convenient               0.342443   \n",
       "Ease of Online booking                          0.714960   \n",
       "Gate location                                   0.337005   \n",
       "Food and drink                                  0.133893   \n",
       "Online boarding                                 0.455169   \n",
       "Seat comfort                                    0.122824   \n",
       "Inflight entertainment                          0.207609   \n",
       "Leg room service                                0.159518   \n",
       "Checkin service                                 0.044928   \n",
       "Inflight service                                0.109331   \n",
       "Cleanliness                                     0.132112   \n",
       "Departure Delay                                -0.017251   \n",
       "Arrival Delay in Minutes                       -0.020016   \n",
       "satisfaction                                    0.283587   \n",
       "participant_id                                  0.002560   \n",
       "\n",
       "                                   Departure/Arrival time convenient  \\\n",
       "id                                                         -0.002110   \n",
       "Age                                                         0.038125   \n",
       "Flight Distance                                            -0.014301   \n",
       "Inflight wifi service                                       0.342443   \n",
       "Departure/Arrival time convenient                           1.000000   \n",
       "Ease of Online booking                                      0.436961   \n",
       "Gate location                                               0.444757   \n",
       "Food and drink                                              0.004906   \n",
       "Online boarding                                             0.070119   \n",
       "Seat comfort                                                0.011344   \n",
       "Inflight entertainment                                     -0.004861   \n",
       "Leg room service                                            0.014718   \n",
       "Checkin service                                             0.093333   \n",
       "Inflight service                                            0.073318   \n",
       "Cleanliness                                                 0.014292   \n",
       "Departure Delay                                             0.001005   \n",
       "Arrival Delay in Minutes                                   -0.000492   \n",
       "satisfaction                                               -0.051601   \n",
       "participant_id                                             -0.003555   \n",
       "\n",
       "                                   Ease of Online booking  Gate location  \\\n",
       "id                                               0.014163      -0.000606   \n",
       "Age                                              0.024842      -0.001330   \n",
       "Flight Distance                                  0.050086       0.002632   \n",
       "Inflight wifi service                            0.714960       0.337005   \n",
       "Departure/Arrival time convenient                0.436961       0.444757   \n",
       "Ease of Online booking                           1.000000       0.458655   \n",
       "Gate location                                    0.458655       1.000000   \n",
       "Food and drink                                   0.031873      -0.001159   \n",
       "Online boarding                                  0.404074       0.001688   \n",
       "Seat comfort                                     0.030014       0.003669   \n",
       "Inflight entertainment                           0.047032       0.003517   \n",
       "Leg room service                                 0.107482      -0.006235   \n",
       "Checkin service                                  0.011081      -0.035427   \n",
       "Inflight service                                 0.035272       0.001681   \n",
       "Cleanliness                                      0.016179      -0.003830   \n",
       "Departure Delay                                 -0.006371       0.005467   \n",
       "Arrival Delay in Minutes                        -0.009574       0.004810   \n",
       "satisfaction                                     0.171705       0.000682   \n",
       "participant_id                                   0.000997       0.000466   \n",
       "\n",
       "                                   Food and drink  Online boarding  \\\n",
       "id                                       0.001063         0.055477   \n",
       "Age                                      0.023000         0.208939   \n",
       "Flight Distance                          0.041174         0.152519   \n",
       "Inflight wifi service                    0.133893         0.455169   \n",
       "Departure/Arrival time convenient        0.004906         0.070119   \n",
       "Ease of Online booking                   0.031873         0.404074   \n",
       "Gate location                           -0.001159         0.001688   \n",
       "Food and drink                           1.000000         0.234468   \n",
       "Online boarding                          0.234468         1.000000   \n",
       "Seat comfort                             0.574556         0.420211   \n",
       "Inflight entertainment                   0.622512         0.285066   \n",
       "Leg room service                         0.032499         0.122915   \n",
       "Checkin service                          0.087299         0.204462   \n",
       "Inflight service                         0.033993         0.074573   \n",
       "Cleanliness                              0.657760         0.331517   \n",
       "Departure Delay                         -0.029926        -0.018982   \n",
       "Arrival Delay in Minutes                -0.032439        -0.020267   \n",
       "satisfaction                             0.209936         0.503557   \n",
       "participant_id                           0.002345         0.000346   \n",
       "\n",
       "                                   Seat comfort  Inflight entertainment  \\\n",
       "id                                     0.052903                0.002300   \n",
       "Age                                    0.160277                0.076444   \n",
       "Flight Distance                        0.110447                0.090478   \n",
       "Inflight wifi service                  0.122824                0.207609   \n",
       "Departure/Arrival time convenient      0.011344               -0.004861   \n",
       "Ease of Online booking                 0.030014                0.047032   \n",
       "Gate location                          0.003669                0.003517   \n",
       "Food and drink                         0.574556                0.622512   \n",
       "Online boarding                        0.420211                0.285066   \n",
       "Seat comfort                           1.000000                0.610590   \n",
       "Inflight entertainment                 0.610590                1.000000   \n",
       "Leg room service                       0.106391                0.300685   \n",
       "Checkin service                        0.191854                0.120867   \n",
       "Inflight service                       0.069218                0.404855   \n",
       "Cleanliness                            0.678534                0.691815   \n",
       "Departure Delay                       -0.027898               -0.027489   \n",
       "Arrival Delay in Minutes              -0.028546               -0.032206   \n",
       "satisfaction                           0.349459                0.398059   \n",
       "participant_id                        -0.000733                0.005904   \n",
       "\n",
       "                                   Leg room service  Checkin service  \\\n",
       "id                                         0.045896         0.079273   \n",
       "Age                                        0.039268         0.035482   \n",
       "Flight Distance                            0.098329         0.053092   \n",
       "Inflight wifi service                      0.159518         0.044928   \n",
       "Departure/Arrival time convenient          0.014718         0.093333   \n",
       "Ease of Online booking                     0.107482         0.011081   \n",
       "Gate location                             -0.006235        -0.035427   \n",
       "Food and drink                             0.032499         0.087299   \n",
       "Online boarding                            0.122915         0.204462   \n",
       "Seat comfort                               0.106391         0.191854   \n",
       "Inflight entertainment                     0.300685         0.120867   \n",
       "Leg room service                           1.000000         0.151729   \n",
       "Checkin service                            0.151729         1.000000   \n",
       "Inflight service                           0.369363         0.237197   \n",
       "Cleanliness                                0.096822         0.179583   \n",
       "Departure Delay                            0.014592        -0.018453   \n",
       "Arrival Delay in Minutes                   0.012832        -0.018324   \n",
       "satisfaction                               0.313471         0.236174   \n",
       "participant_id                             0.005702         0.000648   \n",
       "\n",
       "                                   Inflight service  Cleanliness  \\\n",
       "id                                         0.079346     0.024965   \n",
       "Age                                       -0.049427     0.053611   \n",
       "Flight Distance                            0.041491     0.062030   \n",
       "Inflight wifi service                      0.109331     0.132112   \n",
       "Departure/Arrival time convenient          0.073318     0.014292   \n",
       "Ease of Online booking                     0.035272     0.016179   \n",
       "Gate location                              0.001681    -0.003830   \n",
       "Food and drink                             0.033993     0.657760   \n",
       "Online boarding                            0.074573     0.331517   \n",
       "Seat comfort                               0.069218     0.678534   \n",
       "Inflight entertainment                     0.404855     0.691815   \n",
       "Leg room service                           0.369363     0.096822   \n",
       "Checkin service                            0.237197     0.179583   \n",
       "Inflight service                           1.000000     0.088779   \n",
       "Cleanliness                                0.088779     1.000000   \n",
       "Departure Delay                           -0.054813    -0.014093   \n",
       "Arrival Delay in Minutes                  -0.058374    -0.013527   \n",
       "satisfaction                               0.244741     0.305198   \n",
       "participant_id                             0.008027     0.002554   \n",
       "\n",
       "                                   Departure Delay  Arrival Delay in Minutes  \\\n",
       "id                                       -0.019546                 -0.037545   \n",
       "Age                                      -0.010152                 -0.010873   \n",
       "Flight Distance                           0.001473                 -0.001699   \n",
       "Inflight wifi service                    -0.017251                 -0.020016   \n",
       "Departure/Arrival time convenient         0.001005                 -0.000492   \n",
       "Ease of Online booking                   -0.006371                 -0.009574   \n",
       "Gate location                             0.005467                  0.004810   \n",
       "Food and drink                           -0.029926                 -0.032439   \n",
       "Online boarding                          -0.018982                 -0.020267   \n",
       "Seat comfort                             -0.027898                 -0.028546   \n",
       "Inflight entertainment                   -0.027489                 -0.032206   \n",
       "Leg room service                          0.014592                  0.012832   \n",
       "Checkin service                          -0.018453                 -0.018324   \n",
       "Inflight service                         -0.054813                 -0.058374   \n",
       "Cleanliness                              -0.014093                 -0.013527   \n",
       "Departure Delay                           1.000000                  0.965342   \n",
       "Arrival Delay in Minutes                  0.965342                  1.000000   \n",
       "satisfaction                             -0.050494                 -0.058710   \n",
       "participant_id                            0.000597                 -0.000892   \n",
       "\n",
       "                                   satisfaction  participant_id  \n",
       "id                                     0.013734       -0.000876  \n",
       "Age                                    0.137167        0.000425  \n",
       "Flight Distance                        0.214843       -0.000985  \n",
       "Inflight wifi service                  0.283587        0.002560  \n",
       "Departure/Arrival time convenient     -0.051601       -0.003555  \n",
       "Ease of Online booking                 0.171705        0.000997  \n",
       "Gate location                          0.000682        0.000466  \n",
       "Food and drink                         0.209936        0.002345  \n",
       "Online boarding                        0.503557        0.000346  \n",
       "Seat comfort                           0.349459       -0.000733  \n",
       "Inflight entertainment                 0.398059        0.005904  \n",
       "Leg room service                       0.313471        0.005702  \n",
       "Checkin service                        0.236174        0.000648  \n",
       "Inflight service                       0.244741        0.008027  \n",
       "Cleanliness                            0.305198        0.002554  \n",
       "Departure Delay                       -0.050494        0.000597  \n",
       "Arrival Delay in Minutes              -0.058710       -0.000892  \n",
       "satisfaction                           1.000000       -0.001191  \n",
       "participant_id                        -0.001191        1.000000  "
      ]
     },
     "execution_count": 28,
     "metadata": {},
     "output_type": "execute_result"
    }
   ],
   "source": [
    "train.corr()"
   ]
  },
  {
   "cell_type": "code",
   "execution_count": 29,
   "metadata": {},
   "outputs": [
    {
     "data": {
      "text/html": [
       "<div>\n",
       "<style scoped>\n",
       "    .dataframe tbody tr th:only-of-type {\n",
       "        vertical-align: middle;\n",
       "    }\n",
       "\n",
       "    .dataframe tbody tr th {\n",
       "        vertical-align: top;\n",
       "    }\n",
       "\n",
       "    .dataframe thead th {\n",
       "        text-align: right;\n",
       "    }\n",
       "</style>\n",
       "<table border=\"1\" class=\"dataframe\">\n",
       "  <thead>\n",
       "    <tr style=\"text-align: right;\">\n",
       "      <th></th>\n",
       "      <th>Unnamed: 0</th>\n",
       "      <th>id</th>\n",
       "      <th>Gender</th>\n",
       "      <th>Customer Type</th>\n",
       "      <th>Age</th>\n",
       "      <th>Type of Travel</th>\n",
       "      <th>Class</th>\n",
       "      <th>Flight Distance</th>\n",
       "      <th>Inflight wifi service</th>\n",
       "      <th>Departure/Arrival time convenient</th>\n",
       "      <th>...</th>\n",
       "      <th>Inflight entertainment</th>\n",
       "      <th>On-board service</th>\n",
       "      <th>Leg room service</th>\n",
       "      <th>Baggage handling</th>\n",
       "      <th>Miles Program</th>\n",
       "      <th>Inflight service</th>\n",
       "      <th>Cleanliness</th>\n",
       "      <th>Departure Delay</th>\n",
       "      <th>Arrival Delay in Minutes</th>\n",
       "      <th>satisfaction</th>\n",
       "    </tr>\n",
       "  </thead>\n",
       "  <tbody>\n",
       "    <tr>\n",
       "      <td>0</td>\n",
       "      <td>0</td>\n",
       "      <td>19556</td>\n",
       "      <td>Female</td>\n",
       "      <td>Loyal Customer</td>\n",
       "      <td>52</td>\n",
       "      <td>Business Travel</td>\n",
       "      <td>Eco</td>\n",
       "      <td>160</td>\n",
       "      <td>5</td>\n",
       "      <td>4</td>\n",
       "      <td>...</td>\n",
       "      <td>5</td>\n",
       "      <td>5</td>\n",
       "      <td>5.0</td>\n",
       "      <td>5</td>\n",
       "      <td>2</td>\n",
       "      <td>5</td>\n",
       "      <td>5</td>\n",
       "      <td>50</td>\n",
       "      <td>44.0</td>\n",
       "      <td>1</td>\n",
       "    </tr>\n",
       "    <tr>\n",
       "      <td>1</td>\n",
       "      <td>1</td>\n",
       "      <td>90035</td>\n",
       "      <td>Female</td>\n",
       "      <td>Loyal Customer</td>\n",
       "      <td>36</td>\n",
       "      <td>Business Travel</td>\n",
       "      <td>Business</td>\n",
       "      <td>2863</td>\n",
       "      <td>1</td>\n",
       "      <td>1</td>\n",
       "      <td>...</td>\n",
       "      <td>4</td>\n",
       "      <td>4</td>\n",
       "      <td>4.0</td>\n",
       "      <td>4</td>\n",
       "      <td>3</td>\n",
       "      <td>4</td>\n",
       "      <td>5</td>\n",
       "      <td>0</td>\n",
       "      <td>0.0</td>\n",
       "      <td>1</td>\n",
       "    </tr>\n",
       "    <tr>\n",
       "      <td>2</td>\n",
       "      <td>2</td>\n",
       "      <td>12360</td>\n",
       "      <td>Male</td>\n",
       "      <td>disloyal Customer</td>\n",
       "      <td>20</td>\n",
       "      <td>Business Travel</td>\n",
       "      <td>Eco</td>\n",
       "      <td>192</td>\n",
       "      <td>2</td>\n",
       "      <td>0</td>\n",
       "      <td>...</td>\n",
       "      <td>2</td>\n",
       "      <td>4</td>\n",
       "      <td>1.0</td>\n",
       "      <td>3</td>\n",
       "      <td>2</td>\n",
       "      <td>2</td>\n",
       "      <td>2</td>\n",
       "      <td>0</td>\n",
       "      <td>0.0</td>\n",
       "      <td>0</td>\n",
       "    </tr>\n",
       "    <tr>\n",
       "      <td>3</td>\n",
       "      <td>3</td>\n",
       "      <td>77959</td>\n",
       "      <td>Male</td>\n",
       "      <td>Loyal Customer</td>\n",
       "      <td>44</td>\n",
       "      <td>Business Travel</td>\n",
       "      <td>Business</td>\n",
       "      <td>3377</td>\n",
       "      <td>0</td>\n",
       "      <td>0</td>\n",
       "      <td>...</td>\n",
       "      <td>1</td>\n",
       "      <td>1</td>\n",
       "      <td>1.0</td>\n",
       "      <td>1</td>\n",
       "      <td>3</td>\n",
       "      <td>1</td>\n",
       "      <td>4</td>\n",
       "      <td>0</td>\n",
       "      <td>6.0</td>\n",
       "      <td>1</td>\n",
       "    </tr>\n",
       "    <tr>\n",
       "      <td>4</td>\n",
       "      <td>4</td>\n",
       "      <td>36875</td>\n",
       "      <td>Female</td>\n",
       "      <td>Loyal Customer</td>\n",
       "      <td>49</td>\n",
       "      <td>Business Travel</td>\n",
       "      <td>Eco</td>\n",
       "      <td>1182</td>\n",
       "      <td>2</td>\n",
       "      <td>3</td>\n",
       "      <td>...</td>\n",
       "      <td>2</td>\n",
       "      <td>2</td>\n",
       "      <td>2.0</td>\n",
       "      <td>2</td>\n",
       "      <td>4</td>\n",
       "      <td>2</td>\n",
       "      <td>4</td>\n",
       "      <td>0</td>\n",
       "      <td>20.0</td>\n",
       "      <td>1</td>\n",
       "    </tr>\n",
       "  </tbody>\n",
       "</table>\n",
       "<p>5 rows × 25 columns</p>\n",
       "</div>"
      ],
      "text/plain": [
       "   Unnamed: 0     id  Gender      Customer Type  Age   Type of Travel  \\\n",
       "0           0  19556  Female     Loyal Customer   52  Business Travel   \n",
       "1           1  90035  Female     Loyal Customer   36  Business Travel   \n",
       "2           2  12360    Male  disloyal Customer   20  Business Travel   \n",
       "3           3  77959    Male     Loyal Customer   44  Business Travel   \n",
       "4           4  36875  Female     Loyal Customer   49  Business Travel   \n",
       "\n",
       "      Class  Flight Distance  Inflight wifi service  \\\n",
       "0       Eco              160                      5   \n",
       "1  Business             2863                      1   \n",
       "2       Eco              192                      2   \n",
       "3  Business             3377                      0   \n",
       "4       Eco             1182                      2   \n",
       "\n",
       "   Departure/Arrival time convenient  ...  Inflight entertainment  \\\n",
       "0                                  4  ...                       5   \n",
       "1                                  1  ...                       4   \n",
       "2                                  0  ...                       2   \n",
       "3                                  0  ...                       1   \n",
       "4                                  3  ...                       2   \n",
       "\n",
       "   On-board service  Leg room service  Baggage handling  Miles Program  \\\n",
       "0                 5               5.0                 5              2   \n",
       "1                 4               4.0                 4              3   \n",
       "2                 4               1.0                 3              2   \n",
       "3                 1               1.0                 1              3   \n",
       "4                 2               2.0                 2              4   \n",
       "\n",
       "   Inflight service  Cleanliness  Departure Delay  Arrival Delay in Minutes  \\\n",
       "0                 5            5               50                      44.0   \n",
       "1                 4            5                0                       0.0   \n",
       "2                 2            2                0                       0.0   \n",
       "3                 1            4                0                       6.0   \n",
       "4                 2            4                0                      20.0   \n",
       "\n",
       "   satisfaction  \n",
       "0             1  \n",
       "1             1  \n",
       "2             0  \n",
       "3             1  \n",
       "4             1  \n",
       "\n",
       "[5 rows x 25 columns]"
      ]
     },
     "execution_count": 29,
     "metadata": {},
     "output_type": "execute_result"
    }
   ],
   "source": [
    "test.head()"
   ]
  },
  {
   "cell_type": "code",
   "execution_count": 30,
   "metadata": {},
   "outputs": [],
   "source": [
    "# dropping the unnecessary fields for the study\n",
    "train.drop(['id','participant_id'],axis=1, inplace = True)\n",
    "test.drop(['id','Unnamed: 0'],axis=1, inplace = True)"
   ]
  },
  {
   "cell_type": "code",
   "execution_count": 31,
   "metadata": {},
   "outputs": [
    {
     "name": "stdout",
     "output_type": "stream",
     "text": [
      "<class 'pandas.core.frame.DataFrame'>\n",
      "RangeIndex: 103904 entries, 0 to 103903\n",
      "Data columns (total 23 columns):\n",
      "Gender                               103904 non-null object\n",
      "Customer Type                        103904 non-null object\n",
      "Age                                  103904 non-null int64\n",
      "Type of Travel                       103904 non-null object\n",
      "Class                                93514 non-null object\n",
      "Flight Distance                      103904 non-null int64\n",
      "Inflight wifi service                93496 non-null float64\n",
      "Departure/Arrival time convenient    103904 non-null int64\n",
      "Ease of Online booking               103904 non-null int64\n",
      "Gate location                        103904 non-null int64\n",
      "Food and drink                       103904 non-null int64\n",
      "Online boarding                      103904 non-null int64\n",
      "Seat comfort                         103904 non-null int64\n",
      "Inflight entertainment               103904 non-null int64\n",
      "On-board service                     103904 non-null object\n",
      "Leg room service                     93592 non-null float64\n",
      "Baggage handling                     103904 non-null object\n",
      "Checkin service                      103904 non-null int64\n",
      "Inflight service                     103904 non-null int64\n",
      "Cleanliness                          103904 non-null int64\n",
      "Departure Delay                      103904 non-null int64\n",
      "Arrival Delay in Minutes             93174 non-null float64\n",
      "satisfaction                         103904 non-null int64\n",
      "dtypes: float64(3), int64(14), object(6)\n",
      "memory usage: 18.2+ MB\n"
     ]
    }
   ],
   "source": [
    "train.info()"
   ]
  },
  {
   "cell_type": "code",
   "execution_count": 32,
   "metadata": {},
   "outputs": [],
   "source": [
    "# scaling the features as they happen to have a different scale which may impact the convergence rate of gradient descent\n",
    "from sklearn.preprocessing import StandardScaler\n",
    "from sklearn.preprocessing import MinMaxScaler\n",
    "\n",
    "sc = MinMaxScaler()\n",
    "\n",
    "# get numeric data\n",
    "num_d = train.select_dtypes(exclude=['object'])\n",
    "\n",
    "# update the cols with their normalized values\n",
    "train[num_d.columns] = sc.fit_transform(num_d)\n",
    "\n",
    "# get numeric data\n",
    "num_d = test.select_dtypes(exclude=['object'])\n",
    "\n",
    "# update the cols with their normalized values\n",
    "test[num_d.columns] = sc.fit_transform(num_d)"
   ]
  },
  {
   "cell_type": "code",
   "execution_count": 33,
   "metadata": {},
   "outputs": [
    {
     "data": {
      "text/html": [
       "<div>\n",
       "<style scoped>\n",
       "    .dataframe tbody tr th:only-of-type {\n",
       "        vertical-align: middle;\n",
       "    }\n",
       "\n",
       "    .dataframe tbody tr th {\n",
       "        vertical-align: top;\n",
       "    }\n",
       "\n",
       "    .dataframe thead th {\n",
       "        text-align: right;\n",
       "    }\n",
       "</style>\n",
       "<table border=\"1\" class=\"dataframe\">\n",
       "  <thead>\n",
       "    <tr style=\"text-align: right;\">\n",
       "      <th></th>\n",
       "      <th>Gender</th>\n",
       "      <th>Customer Type</th>\n",
       "      <th>Age</th>\n",
       "      <th>Type of Travel</th>\n",
       "      <th>Class</th>\n",
       "      <th>Flight Distance</th>\n",
       "      <th>Inflight wifi service</th>\n",
       "      <th>Departure/Arrival time convenient</th>\n",
       "      <th>Ease of Online booking</th>\n",
       "      <th>Gate location</th>\n",
       "      <th>...</th>\n",
       "      <th>Inflight entertainment</th>\n",
       "      <th>On-board service</th>\n",
       "      <th>Leg room service</th>\n",
       "      <th>Baggage handling</th>\n",
       "      <th>Checkin service</th>\n",
       "      <th>Inflight service</th>\n",
       "      <th>Cleanliness</th>\n",
       "      <th>Departure Delay</th>\n",
       "      <th>Arrival Delay in Minutes</th>\n",
       "      <th>satisfaction</th>\n",
       "    </tr>\n",
       "  </thead>\n",
       "  <tbody>\n",
       "    <tr>\n",
       "      <td>0</td>\n",
       "      <td>Male</td>\n",
       "      <td>Loyal Customer</td>\n",
       "      <td>0.076923</td>\n",
       "      <td>Personal Travel</td>\n",
       "      <td>Eco Plus</td>\n",
       "      <td>0.010897</td>\n",
       "      <td>0.6</td>\n",
       "      <td>0.8</td>\n",
       "      <td>0.6</td>\n",
       "      <td>0.2</td>\n",
       "      <td>...</td>\n",
       "      <td>1.0</td>\n",
       "      <td>4</td>\n",
       "      <td>0.6</td>\n",
       "      <td>4</td>\n",
       "      <td>0.8</td>\n",
       "      <td>1.0</td>\n",
       "      <td>1.0</td>\n",
       "      <td>0.015704</td>\n",
       "      <td>0.011364</td>\n",
       "      <td>0.0</td>\n",
       "    </tr>\n",
       "    <tr>\n",
       "      <td>1</td>\n",
       "      <td>Male</td>\n",
       "      <td>disloyal Customer</td>\n",
       "      <td>0.230769</td>\n",
       "      <td>Business Travel</td>\n",
       "      <td>Business</td>\n",
       "      <td>0.005182</td>\n",
       "      <td>0.6</td>\n",
       "      <td>0.4</td>\n",
       "      <td>0.6</td>\n",
       "      <td>0.6</td>\n",
       "      <td>...</td>\n",
       "      <td>0.2</td>\n",
       "      <td>1</td>\n",
       "      <td>1.0</td>\n",
       "      <td>3</td>\n",
       "      <td>0.2</td>\n",
       "      <td>0.8</td>\n",
       "      <td>0.2</td>\n",
       "      <td>0.000628</td>\n",
       "      <td>0.003788</td>\n",
       "      <td>0.0</td>\n",
       "    </tr>\n",
       "    <tr>\n",
       "      <td>2</td>\n",
       "      <td>Female</td>\n",
       "      <td>Loyal Customer</td>\n",
       "      <td>0.243590</td>\n",
       "      <td>Business Travel</td>\n",
       "      <td>Business</td>\n",
       "      <td>0.028220</td>\n",
       "      <td>NaN</td>\n",
       "      <td>0.4</td>\n",
       "      <td>0.4</td>\n",
       "      <td>0.4</td>\n",
       "      <td>...</td>\n",
       "      <td>1.0</td>\n",
       "      <td>4</td>\n",
       "      <td>0.6</td>\n",
       "      <td>4</td>\n",
       "      <td>0.8</td>\n",
       "      <td>0.8</td>\n",
       "      <td>1.0</td>\n",
       "      <td>0.000000</td>\n",
       "      <td>0.000000</td>\n",
       "      <td>1.0</td>\n",
       "    </tr>\n",
       "    <tr>\n",
       "      <td>3</td>\n",
       "      <td>Female</td>\n",
       "      <td>Loyal Customer</td>\n",
       "      <td>0.230769</td>\n",
       "      <td>Business Travel</td>\n",
       "      <td>NaN</td>\n",
       "      <td>0.013488</td>\n",
       "      <td>0.4</td>\n",
       "      <td>1.0</td>\n",
       "      <td>1.0</td>\n",
       "      <td>1.0</td>\n",
       "      <td>...</td>\n",
       "      <td>0.4</td>\n",
       "      <td>2</td>\n",
       "      <td>1.0</td>\n",
       "      <td>3</td>\n",
       "      <td>0.2</td>\n",
       "      <td>0.8</td>\n",
       "      <td>0.4</td>\n",
       "      <td>0.006910</td>\n",
       "      <td>0.005682</td>\n",
       "      <td>0.0</td>\n",
       "    </tr>\n",
       "    <tr>\n",
       "      <td>4</td>\n",
       "      <td>Male</td>\n",
       "      <td>Loyal Customer</td>\n",
       "      <td>0.692308</td>\n",
       "      <td>Business Travel</td>\n",
       "      <td>Business</td>\n",
       "      <td>0.004648</td>\n",
       "      <td>0.6</td>\n",
       "      <td>0.6</td>\n",
       "      <td>0.6</td>\n",
       "      <td>0.6</td>\n",
       "      <td>...</td>\n",
       "      <td>0.6</td>\n",
       "      <td>3</td>\n",
       "      <td>NaN</td>\n",
       "      <td>4</td>\n",
       "      <td>0.6</td>\n",
       "      <td>0.6</td>\n",
       "      <td>0.6</td>\n",
       "      <td>0.000000</td>\n",
       "      <td>0.000000</td>\n",
       "      <td>1.0</td>\n",
       "    </tr>\n",
       "  </tbody>\n",
       "</table>\n",
       "<p>5 rows × 23 columns</p>\n",
       "</div>"
      ],
      "text/plain": [
       "   Gender      Customer Type       Age   Type of Travel     Class  \\\n",
       "0    Male     Loyal Customer  0.076923  Personal Travel  Eco Plus   \n",
       "1    Male  disloyal Customer  0.230769  Business Travel  Business   \n",
       "2  Female     Loyal Customer  0.243590  Business Travel  Business   \n",
       "3  Female     Loyal Customer  0.230769  Business Travel       NaN   \n",
       "4    Male     Loyal Customer  0.692308  Business Travel  Business   \n",
       "\n",
       "   Flight Distance  Inflight wifi service  Departure/Arrival time convenient  \\\n",
       "0         0.010897                    0.6                                0.8   \n",
       "1         0.005182                    0.6                                0.4   \n",
       "2         0.028220                    NaN                                0.4   \n",
       "3         0.013488                    0.4                                1.0   \n",
       "4         0.004648                    0.6                                0.6   \n",
       "\n",
       "   Ease of Online booking  Gate location  ...  Inflight entertainment  \\\n",
       "0                     0.6            0.2  ...                     1.0   \n",
       "1                     0.6            0.6  ...                     0.2   \n",
       "2                     0.4            0.4  ...                     1.0   \n",
       "3                     1.0            1.0  ...                     0.4   \n",
       "4                     0.6            0.6  ...                     0.6   \n",
       "\n",
       "   On-board service  Leg room service  Baggage handling Checkin service  \\\n",
       "0                 4               0.6                 4             0.8   \n",
       "1                 1               1.0                 3             0.2   \n",
       "2                 4               0.6                 4             0.8   \n",
       "3                 2               1.0                 3             0.2   \n",
       "4                 3               NaN                 4             0.6   \n",
       "\n",
       "   Inflight service Cleanliness  Departure Delay  Arrival Delay in Minutes  \\\n",
       "0               1.0         1.0         0.015704                  0.011364   \n",
       "1               0.8         0.2         0.000628                  0.003788   \n",
       "2               0.8         1.0         0.000000                  0.000000   \n",
       "3               0.8         0.4         0.006910                  0.005682   \n",
       "4               0.6         0.6         0.000000                  0.000000   \n",
       "\n",
       "   satisfaction  \n",
       "0           0.0  \n",
       "1           0.0  \n",
       "2           1.0  \n",
       "3           0.0  \n",
       "4           1.0  \n",
       "\n",
       "[5 rows x 23 columns]"
      ]
     },
     "execution_count": 33,
     "metadata": {},
     "output_type": "execute_result"
    }
   ],
   "source": [
    "train.head()"
   ]
  },
  {
   "cell_type": "markdown",
   "metadata": {},
   "source": [
    "## Imputing the missing values"
   ]
  },
  {
   "cell_type": "code",
   "execution_count": 34,
   "metadata": {},
   "outputs": [
    {
     "data": {
      "text/plain": [
       "Gender                                0.00\n",
       "Customer Type                         0.00\n",
       "Age                                   0.00\n",
       "Type of Travel                        0.00\n",
       "Class                                10.00\n",
       "Flight Distance                       0.00\n",
       "Inflight wifi service                10.02\n",
       "Departure/Arrival time convenient     0.00\n",
       "Ease of Online booking                0.00\n",
       "Gate location                         0.00\n",
       "Food and drink                        0.00\n",
       "Online boarding                       0.00\n",
       "Seat comfort                          0.00\n",
       "Inflight entertainment                0.00\n",
       "On-board service                      0.00\n",
       "Leg room service                      9.92\n",
       "Baggage handling                      0.00\n",
       "Checkin service                       0.00\n",
       "Inflight service                      0.00\n",
       "Cleanliness                           0.00\n",
       "Departure Delay                       0.00\n",
       "Arrival Delay in Minutes             10.33\n",
       "satisfaction                          0.00\n",
       "dtype: float64"
      ]
     },
     "execution_count": 34,
     "metadata": {},
     "output_type": "execute_result"
    }
   ],
   "source": [
    "round(train.isnull().sum() / len(train) *100,2)"
   ]
  },
  {
   "cell_type": "code",
   "execution_count": 35,
   "metadata": {},
   "outputs": [],
   "source": [
    "train['Arrival Delay in Minutes'] = train['Arrival Delay in Minutes'].fillna(train['Arrival Delay in Minutes'].mean())\n",
    "test['Arrival Delay in Minutes'] = test['Arrival Delay in Minutes'].fillna(test['Arrival Delay in Minutes'].mean())"
   ]
  },
  {
   "cell_type": "code",
   "execution_count": 36,
   "metadata": {},
   "outputs": [],
   "source": [
    "train['Gender'] = train['Gender'].fillna(train['Gender'].mode()[0])\n",
    "train['Customer Type'] = train['Customer Type'].fillna(train['Customer Type'].mode()[0])\n",
    "train['Type of Travel'] = train['Type of Travel'].fillna(train['Type of Travel'].mode()[0])\n",
    "train['Class'] = train['Class'].fillna(train['Class'].mode()[0])\n",
    "train['Inflight wifi service'] = train['Inflight wifi service'].fillna(train['Inflight wifi service'].mode()[0])\n",
    "train['Leg room service'] = train['Leg room service'].fillna(train['Leg room service'].mode()[0])\n",
    "\n",
    "test['Gender'] = test['Gender'].fillna(test['Gender'].mode()[0])\n",
    "test['Customer Type'] = test['Customer Type'].fillna(test['Customer Type'].mode()[0])\n",
    "test['Type of Travel'] = test['Type of Travel'].fillna(test['Type of Travel'].mode()[0])\n",
    "test['Class'] = test['Class'].fillna(test['Class'].mode()[0])\n",
    "test['Inflight wifi service'] = test['Inflight wifi service'].fillna(test['Inflight wifi service'].mode()[0])\n",
    "test['Leg room service'] = test['Leg room service'].fillna(test['Leg room service'].mode()[0])"
   ]
  },
  {
   "cell_type": "code",
   "execution_count": 37,
   "metadata": {},
   "outputs": [
    {
     "data": {
      "text/plain": [
       "Gender                               0.0\n",
       "Customer Type                        0.0\n",
       "Age                                  0.0\n",
       "Type of Travel                       0.0\n",
       "Class                                0.0\n",
       "Flight Distance                      0.0\n",
       "Inflight wifi service                0.0\n",
       "Departure/Arrival time convenient    0.0\n",
       "Ease of Online booking               0.0\n",
       "Gate location                        0.0\n",
       "Food and drink                       0.0\n",
       "Online boarding                      0.0\n",
       "Seat comfort                         0.0\n",
       "Inflight entertainment               0.0\n",
       "On-board service                     0.0\n",
       "Leg room service                     0.0\n",
       "Baggage handling                     0.0\n",
       "Checkin service                      0.0\n",
       "Inflight service                     0.0\n",
       "Cleanliness                          0.0\n",
       "Departure Delay                      0.0\n",
       "Arrival Delay in Minutes             0.0\n",
       "satisfaction                         0.0\n",
       "dtype: float64"
      ]
     },
     "execution_count": 37,
     "metadata": {},
     "output_type": "execute_result"
    }
   ],
   "source": [
    "round(train.isnull().sum() / len(train) *100,2)"
   ]
  },
  {
   "cell_type": "markdown",
   "metadata": {},
   "source": [
    "### Dropping the values that are not consistent in train and test data"
   ]
  },
  {
   "cell_type": "code",
   "execution_count": 38,
   "metadata": {},
   "outputs": [],
   "source": [
    "train.drop(['Checkin service'],axis=1, inplace=True)\n",
    "test.drop(['Miles Program'],axis=1, inplace=True)"
   ]
  },
  {
   "cell_type": "markdown",
   "metadata": {},
   "source": [
    "#### Checking if train and test data have the same fields"
   ]
  },
  {
   "cell_type": "code",
   "execution_count": 39,
   "metadata": {},
   "outputs": [
    {
     "data": {
      "text/plain": [
       "0     True\n",
       "1     True\n",
       "2     True\n",
       "3     True\n",
       "4     True\n",
       "5     True\n",
       "6     True\n",
       "7     True\n",
       "8     True\n",
       "9     True\n",
       "10    True\n",
       "11    True\n",
       "12    True\n",
       "13    True\n",
       "14    True\n",
       "15    True\n",
       "16    True\n",
       "17    True\n",
       "18    True\n",
       "19    True\n",
       "20    True\n",
       "21    True\n",
       "dtype: bool"
      ]
     },
     "execution_count": 39,
     "metadata": {},
     "output_type": "execute_result"
    }
   ],
   "source": [
    "pd.Series(train.columns).sort_values().reset_index(drop=True)\\\n",
    "== pd.Series(test.columns).sort_values().reset_index(drop=True)"
   ]
  },
  {
   "cell_type": "markdown",
   "metadata": {},
   "source": [
    "## one hot encoding and aligning the train and test data to have the same fields"
   ]
  },
  {
   "cell_type": "code",
   "execution_count": 40,
   "metadata": {},
   "outputs": [
    {
     "name": "stdout",
     "output_type": "stream",
     "text": [
      "(103904, 38) (25976, 27)\n"
     ]
    }
   ],
   "source": [
    "train = pd.get_dummies(train)\n",
    "test = pd.get_dummies(test)\n",
    "print(train.shape,test.shape)"
   ]
  },
  {
   "cell_type": "code",
   "execution_count": 41,
   "metadata": {},
   "outputs": [],
   "source": [
    "train,test = train.align(test, join='outer', axis=1, fill_value=0)"
   ]
  },
  {
   "cell_type": "code",
   "execution_count": 42,
   "metadata": {},
   "outputs": [
    {
     "name": "stdout",
     "output_type": "stream",
     "text": [
      "(103904, 40) (25976, 40)\n"
     ]
    }
   ],
   "source": [
    "print(train.shape,test.shape)"
   ]
  },
  {
   "cell_type": "code",
   "execution_count": 43,
   "metadata": {},
   "outputs": [],
   "source": [
    "## creating the train and test X and y (label)\n",
    "y_train = train.satisfaction \n",
    "X_train = train.drop('satisfaction',axis=1)\n",
    "y_test = test.satisfaction \n",
    "X_test = test.drop('satisfaction',axis=1)"
   ]
  },
  {
   "cell_type": "code",
   "execution_count": 44,
   "metadata": {},
   "outputs": [
    {
     "data": {
      "text/html": [
       "<div>\n",
       "<style scoped>\n",
       "    .dataframe tbody tr th:only-of-type {\n",
       "        vertical-align: middle;\n",
       "    }\n",
       "\n",
       "    .dataframe tbody tr th {\n",
       "        vertical-align: top;\n",
       "    }\n",
       "\n",
       "    .dataframe thead th {\n",
       "        text-align: right;\n",
       "    }\n",
       "</style>\n",
       "<table border=\"1\" class=\"dataframe\">\n",
       "  <thead>\n",
       "    <tr style=\"text-align: right;\">\n",
       "      <th></th>\n",
       "      <th>Age</th>\n",
       "      <th>Arrival Delay in Minutes</th>\n",
       "      <th>Baggage handling</th>\n",
       "      <th>Baggage handling_1</th>\n",
       "      <th>Baggage handling_2</th>\n",
       "      <th>Baggage handling_3</th>\n",
       "      <th>Baggage handling_4</th>\n",
       "      <th>Baggage handling_5</th>\n",
       "      <th>Baggage handling_NONE</th>\n",
       "      <th>Class_Business</th>\n",
       "      <th>...</th>\n",
       "      <th>On-board service_1</th>\n",
       "      <th>On-board service_2</th>\n",
       "      <th>On-board service_3</th>\n",
       "      <th>On-board service_4</th>\n",
       "      <th>On-board service_5</th>\n",
       "      <th>On-board service_NONE</th>\n",
       "      <th>Online boarding</th>\n",
       "      <th>Seat comfort</th>\n",
       "      <th>Type of Travel_Business Travel</th>\n",
       "      <th>Type of Travel_Personal Travel</th>\n",
       "    </tr>\n",
       "  </thead>\n",
       "  <tbody>\n",
       "    <tr>\n",
       "      <td>0</td>\n",
       "      <td>0.076923</td>\n",
       "      <td>0.011364</td>\n",
       "      <td>0</td>\n",
       "      <td>0</td>\n",
       "      <td>0</td>\n",
       "      <td>0</td>\n",
       "      <td>1</td>\n",
       "      <td>0</td>\n",
       "      <td>0</td>\n",
       "      <td>0</td>\n",
       "      <td>...</td>\n",
       "      <td>0</td>\n",
       "      <td>0</td>\n",
       "      <td>0</td>\n",
       "      <td>1</td>\n",
       "      <td>0</td>\n",
       "      <td>0</td>\n",
       "      <td>0.6</td>\n",
       "      <td>1.0</td>\n",
       "      <td>0</td>\n",
       "      <td>1</td>\n",
       "    </tr>\n",
       "    <tr>\n",
       "      <td>1</td>\n",
       "      <td>0.230769</td>\n",
       "      <td>0.003788</td>\n",
       "      <td>0</td>\n",
       "      <td>0</td>\n",
       "      <td>0</td>\n",
       "      <td>1</td>\n",
       "      <td>0</td>\n",
       "      <td>0</td>\n",
       "      <td>0</td>\n",
       "      <td>1</td>\n",
       "      <td>...</td>\n",
       "      <td>1</td>\n",
       "      <td>0</td>\n",
       "      <td>0</td>\n",
       "      <td>0</td>\n",
       "      <td>0</td>\n",
       "      <td>0</td>\n",
       "      <td>0.6</td>\n",
       "      <td>0.2</td>\n",
       "      <td>1</td>\n",
       "      <td>0</td>\n",
       "    </tr>\n",
       "    <tr>\n",
       "      <td>2</td>\n",
       "      <td>0.243590</td>\n",
       "      <td>0.000000</td>\n",
       "      <td>0</td>\n",
       "      <td>0</td>\n",
       "      <td>0</td>\n",
       "      <td>0</td>\n",
       "      <td>1</td>\n",
       "      <td>0</td>\n",
       "      <td>0</td>\n",
       "      <td>1</td>\n",
       "      <td>...</td>\n",
       "      <td>0</td>\n",
       "      <td>0</td>\n",
       "      <td>0</td>\n",
       "      <td>1</td>\n",
       "      <td>0</td>\n",
       "      <td>0</td>\n",
       "      <td>1.0</td>\n",
       "      <td>1.0</td>\n",
       "      <td>1</td>\n",
       "      <td>0</td>\n",
       "    </tr>\n",
       "    <tr>\n",
       "      <td>3</td>\n",
       "      <td>0.230769</td>\n",
       "      <td>0.005682</td>\n",
       "      <td>0</td>\n",
       "      <td>0</td>\n",
       "      <td>0</td>\n",
       "      <td>1</td>\n",
       "      <td>0</td>\n",
       "      <td>0</td>\n",
       "      <td>0</td>\n",
       "      <td>1</td>\n",
       "      <td>...</td>\n",
       "      <td>0</td>\n",
       "      <td>1</td>\n",
       "      <td>0</td>\n",
       "      <td>0</td>\n",
       "      <td>0</td>\n",
       "      <td>0</td>\n",
       "      <td>0.4</td>\n",
       "      <td>0.4</td>\n",
       "      <td>1</td>\n",
       "      <td>0</td>\n",
       "    </tr>\n",
       "    <tr>\n",
       "      <td>4</td>\n",
       "      <td>0.692308</td>\n",
       "      <td>0.000000</td>\n",
       "      <td>0</td>\n",
       "      <td>0</td>\n",
       "      <td>0</td>\n",
       "      <td>0</td>\n",
       "      <td>1</td>\n",
       "      <td>0</td>\n",
       "      <td>0</td>\n",
       "      <td>1</td>\n",
       "      <td>...</td>\n",
       "      <td>0</td>\n",
       "      <td>0</td>\n",
       "      <td>1</td>\n",
       "      <td>0</td>\n",
       "      <td>0</td>\n",
       "      <td>0</td>\n",
       "      <td>1.0</td>\n",
       "      <td>1.0</td>\n",
       "      <td>1</td>\n",
       "      <td>0</td>\n",
       "    </tr>\n",
       "  </tbody>\n",
       "</table>\n",
       "<p>5 rows × 39 columns</p>\n",
       "</div>"
      ],
      "text/plain": [
       "        Age  Arrival Delay in Minutes  Baggage handling  Baggage handling_1  \\\n",
       "0  0.076923                  0.011364                 0                   0   \n",
       "1  0.230769                  0.003788                 0                   0   \n",
       "2  0.243590                  0.000000                 0                   0   \n",
       "3  0.230769                  0.005682                 0                   0   \n",
       "4  0.692308                  0.000000                 0                   0   \n",
       "\n",
       "   Baggage handling_2  Baggage handling_3  Baggage handling_4  \\\n",
       "0                   0                   0                   1   \n",
       "1                   0                   1                   0   \n",
       "2                   0                   0                   1   \n",
       "3                   0                   1                   0   \n",
       "4                   0                   0                   1   \n",
       "\n",
       "   Baggage handling_5  Baggage handling_NONE  Class_Business  ...  \\\n",
       "0                   0                      0               0  ...   \n",
       "1                   0                      0               1  ...   \n",
       "2                   0                      0               1  ...   \n",
       "3                   0                      0               1  ...   \n",
       "4                   0                      0               1  ...   \n",
       "\n",
       "   On-board service_1  On-board service_2  On-board service_3  \\\n",
       "0                   0                   0                   0   \n",
       "1                   1                   0                   0   \n",
       "2                   0                   0                   0   \n",
       "3                   0                   1                   0   \n",
       "4                   0                   0                   1   \n",
       "\n",
       "   On-board service_4  On-board service_5  On-board service_NONE  \\\n",
       "0                   1                   0                      0   \n",
       "1                   0                   0                      0   \n",
       "2                   1                   0                      0   \n",
       "3                   0                   0                      0   \n",
       "4                   0                   0                      0   \n",
       "\n",
       "   Online boarding  Seat comfort  Type of Travel_Business Travel  \\\n",
       "0              0.6           1.0                               0   \n",
       "1              0.6           0.2                               1   \n",
       "2              1.0           1.0                               1   \n",
       "3              0.4           0.4                               1   \n",
       "4              1.0           1.0                               1   \n",
       "\n",
       "   Type of Travel_Personal Travel  \n",
       "0                               1  \n",
       "1                               0  \n",
       "2                               0  \n",
       "3                               0  \n",
       "4                               0  \n",
       "\n",
       "[5 rows x 39 columns]"
      ]
     },
     "execution_count": 44,
     "metadata": {},
     "output_type": "execute_result"
    }
   ],
   "source": [
    "X_train.head()"
   ]
  },
  {
   "cell_type": "markdown",
   "metadata": {},
   "source": [
    "## Training a logistic regression"
   ]
  },
  {
   "cell_type": "code",
   "execution_count": 45,
   "metadata": {},
   "outputs": [
    {
     "name": "stderr",
     "output_type": "stream",
     "text": [
      "/opt/anaconda3/lib/python3.7/site-packages/sklearn/linear_model/_logistic.py:940: ConvergenceWarning: lbfgs failed to converge (status=1):\n",
      "STOP: TOTAL NO. of ITERATIONS REACHED LIMIT.\n",
      "\n",
      "Increase the number of iterations (max_iter) or scale the data as shown in:\n",
      "    https://scikit-learn.org/stable/modules/preprocessing.html\n",
      "Please also refer to the documentation for alternative solver options:\n",
      "    https://scikit-learn.org/stable/modules/linear_model.html#logistic-regression\n",
      "  extra_warning_msg=_LOGISTIC_SOLVER_CONVERGENCE_MSG)\n"
     ]
    }
   ],
   "source": [
    "from sklearn.linear_model import LogisticRegression\n",
    "\n",
    "clf = LogisticRegression(random_state=0).fit(X_train, y_train)"
   ]
  },
  {
   "cell_type": "code",
   "execution_count": 46,
   "metadata": {},
   "outputs": [],
   "source": [
    "y_pred_train = clf.predict(X_train)\n",
    "y_pred_test = clf.predict(X_test)"
   ]
  },
  {
   "cell_type": "markdown",
   "metadata": {},
   "source": [
    "### Accuracy on train and test data"
   ]
  },
  {
   "cell_type": "code",
   "execution_count": 47,
   "metadata": {},
   "outputs": [
    {
     "name": "stdout",
     "output_type": "stream",
     "text": [
      "Train accuracy: 0.8780123960578996\n",
      "Test accuracy: 0.8434323991376655\n"
     ]
    }
   ],
   "source": [
    "from sklearn.metrics import accuracy_score\n",
    "print('Train accuracy:',accuracy_score(y_train, y_pred_train))\n",
    "print('Test accuracy:',accuracy_score(y_test, y_pred_test))"
   ]
  },
  {
   "cell_type": "markdown",
   "metadata": {},
   "source": [
    "### Precision and Recall on test data"
   ]
  },
  {
   "cell_type": "code",
   "execution_count": 48,
   "metadata": {},
   "outputs": [
    {
     "name": "stdout",
     "output_type": "stream",
     "text": [
      "recall score for logistic regression is:  0.8439411639420511\n",
      "precision score for logistic regression is:  0.8407669763304938\n",
      "f1 score for logistic regression is:  0.8418883143121016\n",
      "ROC is:  0.8439411639420511\n"
     ]
    }
   ],
   "source": [
    "from sklearn.metrics import recall_score, roc_auc_score\n",
    "print(\"recall score for logistic regression is: \",recall_score(y_test, y_pred_test, average='macro'))\n",
    "print(\"precision score for logistic regression is: \",precision_score(y_test, y_pred_test, average='macro'))\n",
    "print(\"f1 score for logistic regression is: \", f1_score(y_test, y_pred_test, average='macro'))\n",
    "print(\"ROC is: \", roc_auc_score(y_test, y_pred_test))"
   ]
  },
  {
   "cell_type": "code",
   "execution_count": 49,
   "metadata": {},
   "outputs": [
    {
     "name": "stdout",
     "output_type": "stream",
     "text": [
      "ROC value for logistic regression is : 0.8439411639420511\n"
     ]
    }
   ],
   "source": [
    "roc_auc = roc_auc_score(y_test, y_pred_test) \n",
    "print(\"ROC value for logistic regression is :\", roc_auc)"
   ]
  },
  {
   "cell_type": "code",
   "execution_count": 50,
   "metadata": {},
   "outputs": [],
   "source": [
    "## Saving the feature improrance to be using it later.\n",
    "importance = clf.coef_"
   ]
  },
  {
   "cell_type": "code",
   "execution_count": 51,
   "metadata": {},
   "outputs": [
    {
     "data": {
      "text/plain": [
       "<sklearn.metrics._plot.roc_curve.RocCurveDisplay at 0x7f7bbc02dc90>"
      ]
     },
     "execution_count": 51,
     "metadata": {},
     "output_type": "execute_result"
    },
    {
     "data": {
      "image/png": "[encoded data removed]",
      "text/plain": [
       "<Figure size 432x288 with 1 Axes>"
      ]
     },
     "metadata": {
      "needs_background": "light"
     },
     "output_type": "display_data"
    }
   ],
   "source": [
    "## plotting the ROC curve for logistic regression on test data\n",
    "plot_roc_curve(clf, X_test, y_test) "
   ]
  },
  {
   "cell_type": "code",
   "execution_count": 52,
   "metadata": {},
   "outputs": [
    {
     "data": {
      "text/plain": [
       "<sklearn.metrics._plot.confusion_matrix.ConfusionMatrixDisplay at 0x7f7bbb57e750>"
      ]
     },
     "execution_count": 52,
     "metadata": {},
     "output_type": "execute_result"
    },
    {
     "data": {
      "image/png": "[encoded data removed]",
      "text/plain": [
       "<Figure size 432x288 with 2 Axes>"
      ]
     },
     "metadata": {
      "needs_background": "light"
     },
     "output_type": "display_data"
    }
   ],
   "source": [
    "## plotting the confusion matrix for logistic regression\n",
    "plot_confusion_matrix(clf, X_test, y_test,cmap=plt.cm.pink, normalize = 'all')"
   ]
  },
  {
   "cell_type": "markdown",
   "metadata": {},
   "source": [
    "### As can be seen in results, arrival delay,  personal travel, disloyal customer, and baggage handling have negative correlation with satisfaction and online boarding, wifi service, leg room service, and cleanliness have a positive correlation with the output which is satisfaction from flight"
   ]
  },
  {
   "cell_type": "code",
   "execution_count": 53,
   "metadata": {},
   "outputs": [
    {
     "name": "stdout",
     "output_type": "stream",
     "text": [
      "Arrival Delay in Minutes            -4.698033\n",
      "Type of Travel_Personal Travel      -2.239996\n",
      "Departure Delay                     -1.869507\n",
      "Customer Type_disloyal Customer     -1.829876\n",
      "Baggage handling_3                  -1.134006\n",
      "On-board service_0                  -1.055345\n",
      "Gender_Female                       -0.821669\n",
      "Class_Eco Plus                      -0.807365\n",
      "Gender_Male                         -0.760386\n",
      "On-board service_1                  -0.712235\n",
      "Class_Eco                           -0.688889\n",
      "Age                                 -0.675920\n",
      "Ease of Online booking              -0.613593\n",
      "Departure/Arrival time convenient   -0.590819\n",
      "On-board service_2                  -0.589642\n",
      "Baggage handling_2                  -0.364032\n",
      "Baggage handling_4                  -0.266432\n",
      "Baggage handling_NONE               -0.210627\n",
      "On-board service_3                  -0.137415\n",
      "Food and drink                      -0.113272\n",
      "Class_Business                      -0.085801\n",
      "Inflight entertainment              -0.060232\n",
      "On-board service                     0.000000\n",
      "Baggage handling                     0.000000\n",
      "Baggage handling_1                   0.058988\n",
      "Gate location                        0.159628\n",
      "On-board service_NONE                0.201702\n",
      "On-board service_4                   0.204384\n",
      "Customer Type_Loyal Customer         0.247821\n",
      "Flight Distance                      0.322213\n",
      "Baggage handling_5                   0.334054\n",
      "On-board service_5                   0.506498\n",
      "Seat comfort                         0.521590\n",
      "Type of Travel_Business Travel       0.657941\n",
      "Inflight service                     0.943159\n",
      "Cleanliness                          1.316118\n",
      "Leg room service                     1.348250\n",
      "Inflight wifi service                1.850744\n",
      "Online boarding                      3.315976\n",
      "dtype: float64\n"
     ]
    }
   ],
   "source": [
    "pd.set_option('display.min_rows', 10)\n",
    "serie = pd.Series(index = X_train.columns,data= importance[0])\n",
    "serie = serie.sort_values()\n",
    "print(serie)"
   ]
  },
  {
   "cell_type": "markdown",
   "metadata": {},
   "source": [
    "### features that have a high positive impact"
   ]
  },
  {
   "cell_type": "code",
   "execution_count": 54,
   "metadata": {},
   "outputs": [
    {
     "data": {
      "text/plain": [
       "<AxesSubplot:>"
      ]
     },
     "execution_count": 54,
     "metadata": {},
     "output_type": "execute_result"
    },
    {
     "data": {
      "image/png": "[encoded data removed]",
      "text/plain": [
       "<Figure size 432x288 with 1 Axes>"
      ]
     },
     "metadata": {
      "needs_background": "light"
     },
     "output_type": "display_data"
    }
   ],
   "source": [
    "(pd.Series(clf.coef_[0], index=X_train.columns)\n",
    "   .nlargest(6)\n",
    "   .plot(kind='barh')) "
   ]
  },
  {
   "cell_type": "markdown",
   "metadata": {},
   "source": [
    "### features that have a high negative impact"
   ]
  },
  {
   "cell_type": "code",
   "execution_count": 55,
   "metadata": {},
   "outputs": [
    {
     "data": {
      "text/plain": [
       "<AxesSubplot:>"
      ]
     },
     "execution_count": 55,
     "metadata": {},
     "output_type": "execute_result"
    },
    {
     "data": {
      "image/png": "[encoded data removed]",
      "text/plain": [
       "<Figure size 432x288 with 1 Axes>"
      ]
     },
     "metadata": {
      "needs_background": "light"
     },
     "output_type": "display_data"
    }
   ],
   "source": [
    "(pd.Series(clf.coef_[0], index=X_train.columns)\n",
    "   .nsmallest(6)\n",
    "   .plot(kind='barh')) "
   ]
  },
  {
   "cell_type": "markdown",
   "metadata": {},
   "source": [
    "## Training a random forest"
   ]
  },
  {
   "cell_type": "code",
   "execution_count": 56,
   "metadata": {},
   "outputs": [],
   "source": [
    "from sklearn.ensemble import RandomForestClassifier\n",
    "clf = RandomForestClassifier(n_estimators = 500, max_depth=12, random_state=0)\n",
    "clf.fit(X_train, y_train)\n",
    "y_pred_train = clf.predict(X_train)\n",
    "y_pred_test = clf.predict(X_test)"
   ]
  },
  {
   "cell_type": "markdown",
   "metadata": {},
   "source": [
    "### Accuracy on train and test data"
   ]
  },
  {
   "cell_type": "code",
   "execution_count": 57,
   "metadata": {},
   "outputs": [
    {
     "name": "stdout",
     "output_type": "stream",
     "text": [
      "Train accuracy: 0.9520133969818294\n",
      "Test accuracy: 0.9399830612873422\n"
     ]
    }
   ],
   "source": [
    "from sklearn.metrics import accuracy_score\n",
    "print('Train accuracy:',accuracy_score(y_train, y_pred_train))\n",
    "print('Test accuracy:',accuracy_score(y_test, y_pred_test))"
   ]
  },
  {
   "cell_type": "markdown",
   "metadata": {},
   "source": [
    "### Precision and Recall on test data"
   ]
  },
  {
   "cell_type": "code",
   "execution_count": 58,
   "metadata": {},
   "outputs": [
    {
     "name": "stdout",
     "output_type": "stream",
     "text": [
      "Recall for random forest is:  0.9386417504933431\n",
      "precision score for random forest is:  0.9394264625199953\n",
      "f1 score for random forest is:  0.9390220469027623\n",
      "ROC is:  0.9386417504933431\n"
     ]
    }
   ],
   "source": [
    "from sklearn.metrics import recall_score\n",
    "print(\"Recall for random forest is: \", recall_score(y_test, y_pred_test, average='macro'))\n",
    "print(\"precision score for random forest is: \",precision_score(y_test, y_pred_test, average='macro'))\n",
    "print(\"f1 score for random forest is: \", f1_score(y_test, y_pred_test, average='macro'))\n",
    "print(\"ROC is: \", roc_auc_score(y_test, y_pred_test))"
   ]
  },
  {
   "cell_type": "code",
   "execution_count": 59,
   "metadata": {},
   "outputs": [
    {
     "data": {
      "text/plain": [
       "<sklearn.metrics._plot.roc_curve.RocCurveDisplay at 0x7f7ba1789b50>"
      ]
     },
     "execution_count": 59,
     "metadata": {},
     "output_type": "execute_result"
    },
    {
     "data": {
      "image/png": "[encoded data removed]",
      "text/plain": [
       "<Figure size 432x288 with 1 Axes>"
      ]
     },
     "metadata": {
      "needs_background": "light"
     },
     "output_type": "display_data"
    }
   ],
   "source": [
    "## plotting the ROC curve for random forrest\n",
    "plot_roc_curve(clf, X_test, y_test) "
   ]
  },
  {
   "cell_type": "code",
   "execution_count": 60,
   "metadata": {},
   "outputs": [
    {
     "data": {
      "text/plain": [
       "<sklearn.metrics._plot.confusion_matrix.ConfusionMatrixDisplay at 0x7f7ba1789410>"
      ]
     },
     "execution_count": 60,
     "metadata": {},
     "output_type": "execute_result"
    },
    {
     "data": {
      "image/png": "[encoded data removed]",
      "text/plain": [
       "<Figure size 432x288 with 2 Axes>"
      ]
     },
     "metadata": {
      "needs_background": "light"
     },
     "output_type": "display_data"
    }
   ],
   "source": [
    "## Plotting the ROC curve for random forrest\n",
    "plot_confusion_matrix(clf, X_test, y_test,cmap=plt.cm.pink, normalize = 'all')"
   ]
  },
  {
   "cell_type": "markdown",
   "metadata": {},
   "source": [
    "### Shap values for the random forest model (They are not as accurate since I had computation power limit and had to limit the train data)"
   ]
  },
  {
   "cell_type": "code",
   "execution_count": 61,
   "metadata": {},
   "outputs": [],
   "source": [
    "import shap"
   ]
  },
  {
   "cell_type": "code",
   "execution_count": 62,
   "metadata": {},
   "outputs": [
    {
     "data": {
      "image/png": "[encoded data removed]",
      "text/plain": [
       "<Figure size 576x684 with 1 Axes>"
      ]
     },
     "metadata": {
      "needs_background": "light"
     },
     "output_type": "display_data"
    }
   ],
   "source": [
    "shap_values = shap.TreeExplainer(clf).shap_values(X_train.head(1000))\n",
    "shap.summary_plot(shap_values, X_train.head(10000), plot_type=\"bar\")"
   ]
  },
  {
   "cell_type": "markdown",
   "metadata": {},
   "source": [
    "### Alternatively, a neural network can be used as a classifier to detect satisfaction level."
   ]
  },
  {
   "cell_type": "code",
   "execution_count": 63,
   "metadata": {},
   "outputs": [],
   "source": [
    "## Defing the structure of the neural network and some methods that can be useful in prediction and predicting \n",
    "## different classes in the neural network\n",
    "## I decided to use some convolutional layers and some dense layer with dropout to avoid overfitting.\n",
    "from tensorflow.keras.models import Sequential, Model, load_model\n",
    "from tensorflow.keras.layers import Dense, Conv1D, MaxPooling1D, Dropout, Embedding\n",
    "from tensorflow.keras.layers import Flatten, Input, AlphaDropout, GlobalMaxPooling1D\n",
    "from tensorflow.keras.utils import to_categorical\n",
    "from sklearn.model_selection import train_test_split\n",
    "import pandas as pd\n",
    " \n",
    "class cnn_model(object):\n",
    "    def __init__(self,\n",
    "                 input_size,\n",
    "                 X_train = None,\n",
    "                 optimizer = 'adam',\n",
    "                 loss = 'binary_crossentropy',\n",
    "                 num_classes = 2, embedding_size = 128):\n",
    "\n",
    "        self.input_size = input_size\n",
    "        self.max_index = 65535\n",
    "        #self.embedding_size = embedding_size\n",
    "        self.optimizer = optimizer\n",
    "        self.loss = loss\n",
    "        self.metrics = [\"accuracy\"]\n",
    "        self.num_classes = num_classes\n",
    "        self.X_train = X_train\n",
    "        self._build_model()  \n",
    "\n",
    "    def _build_model(self):\n",
    "        model = Sequential()\n",
    "        n_timesteps, n_features, n_outputs = self.X_train.shape[1], self.X_train.shape[2], self.num_classes\n",
    "        model.add(Conv1D(filters=64, kernel_size=3, activation='relu', input_shape=(n_timesteps,n_features)))\n",
    "        model.add(Dropout(0.2))\n",
    "        model.add(Conv1D(filters=64, kernel_size=3, activation='relu'))\n",
    "        model.add(Dropout(0.2))\n",
    "        model.add(MaxPooling1D(pool_size=2))\n",
    "        model.add(Flatten())\n",
    "        model.add(Dense(100, activation='relu'))\n",
    "        model.add(Dropout(0.2))\n",
    "        model.add(Dense(100, activation='relu'))\n",
    "        model.add(Dense(n_outputs, activation='sigmoid'))\n",
    "        #model.compile(loss='categorical_crossentropy', optimizer='adam', metrics=['accuracy']) \n",
    "        model.compile(loss='binary_crossentropy', optimizer='adam', metrics=['accuracy']) \n",
    "        self.model = model\n",
    "        print(self.model.summary())\n",
    "\n",
    "    def train(self, X_train, y_train, X_val, y_val, epochs, batch_size, checkpoint_every = None):\n",
    "        self.model.fit(X_train, y_train, validation_data = (X_val, y_val), epochs = epochs, batch_size = batch_size)\n",
    "\n",
    "    def get_model(self):\n",
    "        return self.model\n",
    "\n",
    "    def test(self, X_test, y_test, batch_size):\n",
    "        self.model.evaluate(X_test, y_test, batch_size = batch_size)\n",
    "\n",
    "    def predict(self, X_test, batch_size):\n",
    "        return self.model.predict(X_test, batch_size)\n",
    "    \n",
    "    def predict_classes(self, X_test, batch_size):\n",
    "        return (self.predict(X_test, batch_size) > 0.75).astype(\"int32\")\n",
    "\n",
    "    def save_model(self, path):\n",
    "        self.model.save(path)"
   ]
  },
  {
   "cell_type": "code",
   "execution_count": 64,
   "metadata": {},
   "outputs": [
    {
     "name": "stdout",
     "output_type": "stream",
     "text": [
      "Shape of train data (103904, 39, 1), and test data (25976, 39, 1)\n"
     ]
    }
   ],
   "source": [
    "import numpy as np\n",
    "loaded = list()\n",
    "loaded.append(X_train)\n",
    "\n",
    "X_train_nn = np.dstack(loaded)\n",
    "loaded = list()\n",
    "loaded.append(X_test)\n",
    "X_test_nn = np.dstack(loaded)\n",
    "print(f\"Shape of train data {X_train_nn.shape}, and test data {X_test_nn.shape}\")"
   ]
  },
  {
   "cell_type": "code",
   "execution_count": 65,
   "metadata": {},
   "outputs": [
    {
     "name": "stdout",
     "output_type": "stream",
     "text": [
      "Model: \"sequential\"\n",
      "_________________________________________________________________\n",
      " Layer (type)                Output Shape              Param #   \n",
      "=================================================================\n",
      " conv1d (Conv1D)             (None, 37, 64)            256       \n",
      "                                                                 \n",
      " dropout (Dropout)           (None, 37, 64)            0         \n",
      "                                                                 \n",
      " conv1d_1 (Conv1D)           (None, 35, 64)            12352     \n",
      "                                                                 \n",
      " dropout_1 (Dropout)         (None, 35, 64)            0         \n",
      "                                                                 \n",
      " max_pooling1d (MaxPooling1D  (None, 17, 64)           0         \n",
      " )                                                               \n",
      "                                                                 \n",
      " flatten (Flatten)           (None, 1088)              0         \n",
      "                                                                 \n",
      " dense (Dense)               (None, 100)               108900    \n",
      "                                                                 \n",
      " dropout_2 (Dropout)         (None, 100)               0         \n",
      "                                                                 \n",
      " dense_1 (Dense)             (None, 100)               10100     \n",
      "                                                                 \n",
      " dense_2 (Dense)             (None, 2)                 202       \n",
      "                                                                 \n",
      "=================================================================\n",
      "Total params: 131,810\n",
      "Trainable params: 131,810\n",
      "Non-trainable params: 0\n",
      "_________________________________________________________________\n",
      "None\n",
      "Epoch 1/10\n",
      "347/347 [==============================] - 13s 35ms/step - loss: 0.3007 - accuracy: 0.8744 - val_loss: 0.3092 - val_accuracy: 0.8616\n",
      "Epoch 2/10\n",
      "347/347 [==============================] - 14s 41ms/step - loss: 0.1945 - accuracy: 0.9210 - val_loss: 0.2189 - val_accuracy: 0.9116\n",
      "Epoch 3/10\n",
      "347/347 [==============================] - 15s 44ms/step - loss: 0.1724 - accuracy: 0.9290 - val_loss: 0.2070 - val_accuracy: 0.9163\n",
      "Epoch 4/10\n",
      "347/347 [==============================] - 21s 61ms/step - loss: 0.1608 - accuracy: 0.9347 - val_loss: 0.2065 - val_accuracy: 0.9151\n",
      "Epoch 5/10\n",
      "347/347 [==============================] - 15s 43ms/step - loss: 0.1531 - accuracy: 0.9375 - val_loss: 0.2011 - val_accuracy: 0.9209\n",
      "Epoch 6/10\n",
      "347/347 [==============================] - 22s 62ms/step - loss: 0.1487 - accuracy: 0.9394 - val_loss: 0.2027 - val_accuracy: 0.9190\n",
      "Epoch 7/10\n",
      "347/347 [==============================] - 20s 58ms/step - loss: 0.1436 - accuracy: 0.9417 - val_loss: 0.2128 - val_accuracy: 0.9136\n",
      "Epoch 8/10\n",
      "347/347 [==============================] - 23s 67ms/step - loss: 0.1404 - accuracy: 0.9428 - val_loss: 0.2114 - val_accuracy: 0.9135\n",
      "Epoch 9/10\n",
      "347/347 [==============================] - 15s 44ms/step - loss: 0.1385 - accuracy: 0.9431 - val_loss: 0.2073 - val_accuracy: 0.9164\n",
      "Epoch 10/10\n",
      "347/347 [==============================] - 19s 54ms/step - loss: 0.1344 - accuracy: 0.9451 - val_loss: 0.2038 - val_accuracy: 0.9200\n",
      "INFO:tensorflow:Assets written to: model/assets\n"
     ]
    }
   ],
   "source": [
    "## instantiating a neural network model and getting its summary\n",
    "## Changing the type of the labels to be categorical\n",
    "## Training the model on the train and test datasets that we adapted to work with tensorflow\n",
    "\n",
    "from tensorflow.keras.utils import to_categorical\n",
    "y_train_nn = to_categorical(y_train)\n",
    "y_test_nn = to_categorical(y_test)\n",
    "\n",
    "model = cnn_model(input_size = (39), X_train = X_train_nn)\n",
    "\n",
    "model.train(X_train_nn, y_train_nn, X_test_nn, y_test_nn, epochs = 10, batch_size = 300)\n",
    "\n",
    "m = model.get_model()\n",
    "\n",
    "m.save(\"model\")"
   ]
  },
  {
   "cell_type": "code",
   "execution_count": 66,
   "metadata": {},
   "outputs": [
    {
     "data": {
      "text/plain": [
       "array([[1.1523157e-01, 8.8518357e-01],\n",
       "       [1.3032556e-04, 9.9985921e-01],\n",
       "       [9.9924558e-01, 7.6618791e-04],\n",
       "       ...,\n",
       "       [9.9837315e-01, 1.5227497e-03],\n",
       "       [2.0528674e-02, 9.8073721e-01],\n",
       "       [9.7700691e-01, 2.2569209e-02]], dtype=float32)"
      ]
     },
     "execution_count": 66,
     "metadata": {},
     "output_type": "execute_result"
    }
   ],
   "source": [
    "model.predict(X_test_nn , batch_size = 300)"
   ]
  },
  {
   "cell_type": "code",
   "execution_count": 67,
   "metadata": {},
   "outputs": [],
   "source": [
    "## getting the predictions of the neural network and creating lists to save them\n",
    "\n",
    "y_pred_test = []\n",
    "for i in model.predict_classes(X_test_nn , batch_size = 300):\n",
    "    y_pred_test.append(i[1])\n",
    "\n",
    "    y_pred_train = []\n",
    "for i in model.predict_classes(X_train_nn , batch_size = 300):\n",
    "    y_pred_train.append(i[1])"
   ]
  },
  {
   "cell_type": "markdown",
   "metadata": {},
   "source": [
    "### Checking the metrics for the neural network"
   ]
  },
  {
   "cell_type": "code",
   "execution_count": 68,
   "metadata": {},
   "outputs": [
    {
     "name": "stdout",
     "output_type": "stream",
     "text": [
      "Train accuracy: 0.9356617647058824\n",
      "Test accuracy: 0.9056436710809979\n"
     ]
    }
   ],
   "source": [
    "from sklearn.metrics import accuracy_score\n",
    "print('Train accuracy:',accuracy_score(y_train, y_pred_train))\n",
    "print('Test accuracy:',accuracy_score(y_test, y_pred_test))"
   ]
  },
  {
   "cell_type": "code",
   "execution_count": 69,
   "metadata": {},
   "outputs": [
    {
     "name": "stdout",
     "output_type": "stream",
     "text": [
      "The recall score of the neural network is:  0.8968394963412238\n",
      "precision score of the neural network is:  0.915066083110438\n",
      "f1 score for neural network is:  0.9024261558101923\n",
      "ROC is:  0.8968394963412238\n"
     ]
    }
   ],
   "source": [
    "from sklearn.metrics import recall_score\n",
    "print(\"The recall score of the neural network is: \", recall_score(y_test, y_pred_test, average='macro'))\n",
    "print(\"precision score of the neural network is: \",precision_score(y_test, y_pred_test, average='macro'))\n",
    "print(\"f1 score for neural network is: \", f1_score(y_test, y_pred_test, average='macro'))\n",
    "print(\"ROC is: \", roc_auc_score(y_test, y_pred_test))"
   ]
  },
  {
   "cell_type": "code",
   "execution_count": 70,
   "metadata": {},
   "outputs": [
    {
     "name": "stdout",
     "output_type": "stream",
     "text": [
      "[[14121   452]\n",
      " [ 1999  9404]]\n"
     ]
    }
   ],
   "source": [
    "from sklearn.metrics import confusion_matrix\n",
    "cf_matrix = confusion_matrix(y_test, y_pred_test)\n",
    "print(cf_matrix)"
   ]
  },
  {
   "cell_type": "code",
   "execution_count": 71,
   "metadata": {},
   "outputs": [
    {
     "data": {
      "image/png": "[encoded data removed]",
      "text/plain": [
       "<Figure size 432x288 with 2 Axes>"
      ]
     },
     "metadata": {
      "needs_background": "light"
     },
     "output_type": "display_data"
    }
   ],
   "source": [
    "## getting the confusion matrix of the neural network. Initially, it had too many false positives.\n",
    "## Adjusted the threshold to reduce the number of false positives.\n",
    "\n",
    "import seaborn as sns\n",
    "from cf_matrix import make_confusion_matrix\n",
    "labels = ['True Neg','False Pos','False Neg','True Pos']\n",
    "categories = ['Zero', 'One']\n",
    "make_confusion_matrix(cf_matrix, \n",
    "                      group_names=labels,\n",
    "                      categories=categories, \n",
    "                      )"
   ]
  },
  {
   "cell_type": "markdown",
   "metadata": {},
   "source": [
    "## XGboost model "
   ]
  },
  {
   "cell_type": "code",
   "execution_count": 72,
   "metadata": {},
   "outputs": [
    {
     "name": "stdout",
     "output_type": "stream",
     "text": [
      "Accuracy of the xgboost model = 0.9399060671388975\n",
      "ROC Area under Curve = 0.9384586734254798\n",
      "The recall score for XGboost is:  0.9384586734254798\n",
      "precision score for XGboostis:  0.9394396994444194\n",
      "f1 score for Xgboost is:  0.9389305812287936\n"
     ]
    },
    {
     "data": {
      "image/png": "[encoded data removed]",
      "text/plain": [
       "<Figure size 432x288 with 1 Axes>"
      ]
     },
     "metadata": {
      "needs_background": "light"
     },
     "output_type": "display_data"
    },
    {
     "data": {
      "image/png": "[encoded data removed]",
      "text/plain": [
       "<Figure size 432x288 with 2 Axes>"
      ]
     },
     "metadata": {
      "needs_background": "light"
     },
     "output_type": "display_data"
    }
   ],
   "source": [
    "import xgboost as xgb\n",
    "from sklearn.metrics import accuracy_score, roc_auc_score, classification_report, plot_confusion_matrix, plot_roc_curve\n",
    "def run_model(model, X_train, y_train, X_test, y_test, verbose=True):\n",
    "    \n",
    "    if verbose == False:\n",
    "        model.fit(X_train,y_train.ravel(), verbose=0)\n",
    "    else:\n",
    "        model.fit(X_train,y_train.ravel())\n",
    "    y_pred = model.predict(X_test)\n",
    "    accuracy = accuracy_score(y_test, y_pred)\n",
    "    roc_auc = roc_auc_score(y_test, y_pred) \n",
    "    \n",
    "    print(\"Accuracy of the xgboost model = {}\".format(accuracy))\n",
    "    print(\"ROC Area under Curve = {}\".format(roc_auc))\n",
    "    plot_roc_curve(model, X_test, y_test)   \n",
    "    plot_confusion_matrix(model, X_test, y_test,cmap=plt.cm.pink, normalize = 'all')\n",
    "    print(\"The recall score for XGboost is: \", recall_score(y_test, y_pred, average='macro'))\n",
    "    print(\"precision score for XGboostis: \",precision_score(y_test, y_pred, average='macro'))\n",
    "    print(\"f1 score for Xgboost is: \", f1_score(y_test, y_pred, average='macro'))\n",
    "    return model, accuracy, roc_auc\n",
    "params_xgb ={'n_estimators': 100,\n",
    "            'max_depth': 16}\n",
    "\n",
    "model_xgb = xgb.XGBClassifier(**params_xgb)\n",
    "model_xgb, accuracy_xgb, roc_auc_xgb = run_model(model_xgb, X_train, y_train, X_test, y_test)"
   ]
  },
  {
   "cell_type": "code",
   "execution_count": null,
   "metadata": {},
   "outputs": [],
   "source": []
  },
  {
   "cell_type": "code",
   "execution_count": null,
   "metadata": {},
   "outputs": [],
   "source": []
  }
 ],
 "metadata": {
  "kernelspec": {
   "display_name": "Python 3 (ipykernel)",
   "language": "python",
   "name": "python3"
  },
  "language_info": {
   "codemirror_mode": {
    "name": "ipython",
    "version": 3
   },
   "file_extension": ".py",
   "mimetype": "text/x-python",
   "name": "python",
   "nbconvert_exporter": "python",
   "pygments_lexer": "ipython3",
   "version": "3.10.9"
  }
 },
 "nbformat": 4,
 "nbformat_minor": 2
}
